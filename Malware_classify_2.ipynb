{
  "nbformat": 4,
  "nbformat_minor": 0,
  "metadata": {
    "colab": {
      "name": "Malware_classify_2.ipynb",
      "provenance": [],
      "collapsed_sections": []
    },
    "kernelspec": {
      "name": "python3",
      "display_name": "Python 3"
    },
    "language_info": {
      "name": "python"
    },
    "accelerator": "GPU"
  },
  "cells": [
    {
      "cell_type": "code",
      "metadata": {
        "id": "yPHtdluMFUx-"
      },
      "source": [
        "import pandas as pd\n",
        "import numpy as np\n",
        "import matplotlib.pyplot as plt\n",
        "import seaborn as sns\n",
        "import joblib\n",
        "\n",
        "from sklearn.preprocessing import StandardScaler\n",
        "from sklearn.decomposition import PCA\n",
        "\n",
        "\n",
        "from pydrive.auth import GoogleAuth\n",
        "from pydrive.drive import GoogleDrive\n",
        "from google.colab import auth\n",
        "from oauth2client.client import GoogleCredentials\n",
        "\n",
        "from sklearn.model_selection import train_test_split\n",
        "from sklearn.metrics import roc_auc_score\n",
        "from sklearn.metrics import confusion_matrix\n",
        "\n",
        "from sklearn.ensemble import RandomForestClassifier\n",
        "from sklearn.neighbors import KNeighborsClassifier\n",
        "\n",
        "dataset_filename = 'top_1000_pe_imports.csv'\n",
        "knn_model_filename = 'knnjoblib_file.sav'\n",
        "rf_model_filename = 'rfjoblib_file.sav'\n",
        "save_model = False"
      ],
      "execution_count": null,
      "outputs": []
    },
    {
      "cell_type": "code",
      "metadata": {
        "id": "tpCbBu2ZMD9x"
      },
      "source": [
        "auth.authenticate_user()\n",
        "gauth = GoogleAuth()\n",
        "gauth.credentials = GoogleCredentials.get_application_default()\n",
        "drive = GoogleDrive(gauth)"
      ],
      "execution_count": null,
      "outputs": []
    },
    {
      "cell_type": "code",
      "metadata": {
        "id": "rlmOrh2sMKIb"
      },
      "source": [
        "# Dataset\n",
        "downloaded = drive.CreateFile({'id':\"1uoSqL1UqTDnwvMEqdMTX5i-DY9cSwLdu\"})\n",
        "downloaded.GetContentFile(dataset_filename)\n",
        "\n",
        "# if save_model == False:\n",
        "#   # KNN Model\n",
        "#   downloaded = drive.CreateFile({'id':\"1-EWG_Ew9jEJG8EjNIeEddtnfJrLh-8RP\"})\n",
        "#   downloaded.GetContentFile(knn_model_filename)\n",
        "#   # RF Model\n",
        "#   downloaded = drive.CreateFile({'id':\"1eungIjhBFbzgXL97TurzKxhWIIv99MMv\"})\n",
        "#   downloaded.GetContentFile(rf_model_filename)"
      ],
      "execution_count": null,
      "outputs": []
    },
    {
      "cell_type": "code",
      "metadata": {
        "id": "w6qObGB-JbEq"
      },
      "source": [
        "def get_data():\n",
        "  data = pd.read_csv(dataset_filename)\n",
        "  data_sorted = data.sort_values('malware')\n",
        "  data_sorted = data_sorted.head(5000)\n",
        "  x_2 = data_sorted.drop([\"malware\",\"hash\"], axis = 1)\n",
        "  y = data_sorted['malware']\n",
        "  y = pd.DataFrame(data=y,columns=['malware'])\n",
        "  y = y.reset_index(drop=True)\n",
        "\n",
        "  x_2 = StandardScaler().fit_transform(x_2)\n",
        "  col = []\n",
        "  a = 100\n",
        "  col = col_pca(a)\n",
        "  pca = PCA(n_components=a)\n",
        "  principalComponents = pca.fit_transform(x_2)\n",
        "  x = pd.DataFrame(data = principalComponents, columns = col)\n",
        "  x_train, x_test, y_train, y_test = train_test_split(x, y, test_size=0.3, random_state=1)\n",
        "  return (x, y)\n",
        "\n",
        "def col_pca(a):\n",
        "  columns = []\n",
        "  for i in range (0,a):\n",
        "    name = \"PC{}\".format(i+1)\n",
        "    columns.append(name)\n",
        "  return columns\n",
        "\n",
        "def get_train_test_split(x, y):\n",
        "  x_train, x_test, y_train, y_test = train_test_split(x, y, test_size=0.3, random_state=1)\n",
        "  return (x_train, x_test, y_train, y_test)\n",
        "\n",
        "def plot_confusion_matrix(y_test, y_pred):\n",
        "  cf_matrix1= confusion_matrix(y_test, y_pred)\n",
        "  group_names = [\"TrueNeg\",\"FalsePos\",\"FalseNeg\",\"TruePos\"]\n",
        "  group_counts = [\"{0:0.0f}\".format(value) for value in\n",
        "                  cf_matrix1.flatten()]\n",
        "  group_percentages = [\"{0:.2%}\".format(value) for value in\n",
        "                      cf_matrix1.flatten()/np.sum(cf_matrix1)]\n",
        "  labels = [f\"{v1}\\n{v2}\\n{v3}\" for v1, v2, v3 in\n",
        "            zip(group_names,group_counts,group_percentages)]\n",
        "  labels = np.asarray(labels).reshape(2,2)\n",
        "  sns.heatmap(cf_matrix1, annot=labels, fmt=\"\", cmap='Blues')\n",
        "\n",
        "def get_predictions_and_probabilities_KNN_and_RF(x):\n",
        "  knn_model = joblib.load(knn_model_filename)\n",
        "  rf_model = joblib.load(rf_model_filename)\n",
        "  y_pred_knn_proba = np.array(knn_model.predict_proba(x))\n",
        "  y_pred_rf_proba = np.array(rf_model.predict_proba(x))\n",
        "  y_pred_knn_proba = y_pred_knn_proba.T\n",
        "  y_pred_rf_proba = y_pred_rf_proba.T\n",
        "  data_dict = dict()\n",
        "  data_dict[\"KNN Pred Prob 0\"] = y_pred_knn_proba[0]\n",
        "  data_dict[\"KNN Pred Prob 1\"] = y_pred_knn_proba[1]\n",
        "  data_dict[\"RF Pred Prob 0\"] = y_pred_rf_proba[0]\n",
        "  data_dict[\"RF Pred Prob 1\"] = y_pred_rf_proba[1]\n",
        "  df = pd.DataFrame(data_dict)\n",
        "  print(df.head())\n",
        "  return df"
      ],
      "execution_count": null,
      "outputs": []
    },
    {
      "cell_type": "code",
      "metadata": {
        "id": "Ifr6ORRmQulj"
      },
      "source": [
        "x, y = get_data()\n",
        "x_train, x_test, y_train, y_test = get_train_test_split(x, y)"
      ],
      "execution_count": null,
      "outputs": []
    },
    {
      "cell_type": "code",
      "metadata": {
        "colab": {
          "base_uri": "https://localhost:8080/"
        },
        "id": "Rd22kbz5j2QH",
        "outputId": "76c1d1cf-ee65-489c-fcc6-10c5efd1a79b"
      },
      "source": [
        "print(x.head())"
      ],
      "execution_count": null,
      "outputs": [
        {
          "output_type": "stream",
          "text": [
            "         PC1       PC2       PC3  ...      PC98      PC99     PC100\n",
            "0  -8.746270  2.312617  6.004462  ...  0.624831  0.320791  1.191104\n",
            "1 -10.836956  3.748380  6.403976  ... -0.166361 -0.210040  1.704502\n",
            "2 -11.182989  3.813067  6.719901  ...  0.120826 -0.190705  0.723347\n",
            "3  -9.170643  1.996833  4.300885  ... -0.864860  0.276208 -0.518987\n",
            "4  -9.305109 -0.282422  1.826068  ... -0.202072  0.346191  0.094050\n",
            "\n",
            "[5 rows x 100 columns]\n"
          ],
          "name": "stdout"
        }
      ]
    },
    {
      "cell_type": "code",
      "metadata": {
        "id": "w7SAzjBDkUe7",
        "colab": {
          "base_uri": "https://localhost:8080/",
          "height": 1000
        },
        "outputId": "ce7ba5fd-bd4d-441e-d2f6-567ca409a0df"
      },
      "source": [
        "\n",
        "from sklearn.ensemble import RandomForestClassifier\n",
        "from matplotlib import pyplot\n",
        "\n",
        "importance = clf2.feature_importances_\n",
        "for i,v in enumerate(importance):\n",
        "\tprint('Feature: %0d, Score: %.5f' % (i,v))\n",
        "pyplot.bar([x for x in range(len(importance))], importance)\n",
        "pyplot.show()"
      ],
      "execution_count": null,
      "outputs": [
        {
          "output_type": "stream",
          "text": [
            "Feature: 0, Score: 0.01598\n",
            "Feature: 1, Score: 0.01983\n",
            "Feature: 2, Score: 0.04368\n",
            "Feature: 3, Score: 0.03386\n",
            "Feature: 4, Score: 0.01242\n",
            "Feature: 5, Score: 0.02407\n",
            "Feature: 6, Score: 0.04279\n",
            "Feature: 7, Score: 0.11472\n",
            "Feature: 8, Score: 0.02043\n",
            "Feature: 9, Score: 0.01269\n",
            "Feature: 10, Score: 0.00905\n",
            "Feature: 11, Score: 0.05099\n",
            "Feature: 12, Score: 0.00846\n",
            "Feature: 13, Score: 0.03398\n",
            "Feature: 14, Score: 0.00881\n",
            "Feature: 15, Score: 0.00579\n",
            "Feature: 16, Score: 0.00861\n",
            "Feature: 17, Score: 0.01190\n",
            "Feature: 18, Score: 0.00629\n",
            "Feature: 19, Score: 0.00614\n",
            "Feature: 20, Score: 0.00657\n",
            "Feature: 21, Score: 0.00911\n",
            "Feature: 22, Score: 0.00471\n",
            "Feature: 23, Score: 0.00886\n",
            "Feature: 24, Score: 0.00591\n",
            "Feature: 25, Score: 0.00634\n",
            "Feature: 26, Score: 0.00589\n",
            "Feature: 27, Score: 0.00602\n",
            "Feature: 28, Score: 0.01022\n",
            "Feature: 29, Score: 0.00714\n",
            "Feature: 30, Score: 0.00607\n",
            "Feature: 31, Score: 0.00677\n",
            "Feature: 32, Score: 0.00672\n",
            "Feature: 33, Score: 0.00333\n",
            "Feature: 34, Score: 0.00595\n",
            "Feature: 35, Score: 0.00541\n",
            "Feature: 36, Score: 0.01422\n",
            "Feature: 37, Score: 0.02046\n",
            "Feature: 38, Score: 0.00615\n",
            "Feature: 39, Score: 0.00733\n",
            "Feature: 40, Score: 0.00381\n",
            "Feature: 41, Score: 0.00677\n",
            "Feature: 42, Score: 0.00794\n",
            "Feature: 43, Score: 0.00404\n",
            "Feature: 44, Score: 0.00508\n",
            "Feature: 45, Score: 0.00494\n",
            "Feature: 46, Score: 0.00611\n",
            "Feature: 47, Score: 0.00513\n",
            "Feature: 48, Score: 0.00796\n",
            "Feature: 49, Score: 0.00541\n",
            "Feature: 50, Score: 0.00551\n",
            "Feature: 51, Score: 0.01367\n",
            "Feature: 52, Score: 0.00643\n",
            "Feature: 53, Score: 0.00840\n",
            "Feature: 54, Score: 0.00441\n",
            "Feature: 55, Score: 0.00522\n",
            "Feature: 56, Score: 0.00692\n",
            "Feature: 57, Score: 0.00742\n",
            "Feature: 58, Score: 0.00730\n",
            "Feature: 59, Score: 0.00491\n",
            "Feature: 60, Score: 0.01136\n",
            "Feature: 61, Score: 0.00578\n",
            "Feature: 62, Score: 0.00323\n",
            "Feature: 63, Score: 0.00416\n",
            "Feature: 64, Score: 0.00489\n",
            "Feature: 65, Score: 0.00939\n",
            "Feature: 66, Score: 0.00416\n",
            "Feature: 67, Score: 0.00636\n",
            "Feature: 68, Score: 0.00559\n",
            "Feature: 69, Score: 0.01034\n",
            "Feature: 70, Score: 0.00547\n",
            "Feature: 71, Score: 0.00648\n",
            "Feature: 72, Score: 0.00425\n",
            "Feature: 73, Score: 0.00435\n",
            "Feature: 74, Score: 0.00319\n",
            "Feature: 75, Score: 0.00510\n",
            "Feature: 76, Score: 0.00879\n",
            "Feature: 77, Score: 0.01625\n",
            "Feature: 78, Score: 0.00755\n",
            "Feature: 79, Score: 0.00527\n",
            "Feature: 80, Score: 0.00528\n",
            "Feature: 81, Score: 0.00964\n",
            "Feature: 82, Score: 0.00449\n",
            "Feature: 83, Score: 0.00578\n",
            "Feature: 84, Score: 0.00403\n",
            "Feature: 85, Score: 0.00725\n",
            "Feature: 86, Score: 0.00380\n",
            "Feature: 87, Score: 0.00716\n",
            "Feature: 88, Score: 0.00350\n",
            "Feature: 89, Score: 0.00619\n",
            "Feature: 90, Score: 0.00368\n",
            "Feature: 91, Score: 0.00328\n",
            "Feature: 92, Score: 0.00575\n",
            "Feature: 93, Score: 0.00333\n",
            "Feature: 94, Score: 0.00430\n",
            "Feature: 95, Score: 0.00392\n",
            "Feature: 96, Score: 0.00309\n",
            "Feature: 97, Score: 0.00341\n",
            "Feature: 98, Score: 0.00418\n",
            "Feature: 99, Score: 0.00496\n"
          ],
          "name": "stdout"
        },
        {
          "output_type": "display_data",
          "data": {
            "image/png": "[encoded data removed]",
            "text/plain": [
              "<Figure size 432x288 with 1 Axes>"
            ]
          },
          "metadata": {
            "tags": [],
            "needs_background": "light"
          }
        }
      ]
    },
    {
      "cell_type": "code",
      "metadata": {
        "colab": {
          "base_uri": "https://localhost:8080/",
          "height": 402
        },
        "id": "jkXXaIKWo-Xo",
        "outputId": "2cbd4c17-32cf-4813-ad8f-fe0499453f06"
      },
      "source": [
        "importance = importance.T\n",
        "arr=[]\n",
        "arr = [i for i in range(100)] \n",
        "arr = np.array(arr)\n",
        "arr = arr.T\n",
        "data_dict = dict()\n",
        "data_dict[\"Feature\"] = arr\n",
        "data_dict[\"Score\"] = importance\n",
        "df = pd.DataFrame(data_dict)\n",
        "\n",
        "df"
      ],
      "execution_count": null,
      "outputs": [
        {
          "output_type": "execute_result",
          "data": {
            "text/html": [
              "<div>\n",
              "<style scoped>\n",
              "    .dataframe tbody tr th:only-of-type {\n",
              "        vertical-align: middle;\n",
              "    }\n",
              "\n",
              "    .dataframe tbody tr th {\n",
              "        vertical-align: top;\n",
              "    }\n",
              "\n",
              "    .dataframe thead th {\n",
              "        text-align: right;\n",
              "    }\n",
              "</style>\n",
              "<table border=\"1\" class=\"dataframe\">\n",
              "  <thead>\n",
              "    <tr style=\"text-align: right;\">\n",
              "      <th></th>\n",
              "      <th>Feature</th>\n",
              "      <th>Score</th>\n",
              "    </tr>\n",
              "  </thead>\n",
              "  <tbody>\n",
              "    <tr>\n",
              "      <th>0</th>\n",
              "      <td>0</td>\n",
              "      <td>0.015976</td>\n",
              "    </tr>\n",
              "    <tr>\n",
              "      <th>1</th>\n",
              "      <td>1</td>\n",
              "      <td>0.019830</td>\n",
              "    </tr>\n",
              "    <tr>\n",
              "      <th>2</th>\n",
              "      <td>2</td>\n",
              "      <td>0.043678</td>\n",
              "    </tr>\n",
              "    <tr>\n",
              "      <th>3</th>\n",
              "      <td>3</td>\n",
              "      <td>0.033864</td>\n",
              "    </tr>\n",
              "    <tr>\n",
              "      <th>4</th>\n",
              "      <td>4</td>\n",
              "      <td>0.012424</td>\n",
              "    </tr>\n",
              "    <tr>\n",
              "      <th>...</th>\n",
              "      <td>...</td>\n",
              "      <td>...</td>\n",
              "    </tr>\n",
              "    <tr>\n",
              "      <th>95</th>\n",
              "      <td>95</td>\n",
              "      <td>0.003923</td>\n",
              "    </tr>\n",
              "    <tr>\n",
              "      <th>96</th>\n",
              "      <td>96</td>\n",
              "      <td>0.003086</td>\n",
              "    </tr>\n",
              "    <tr>\n",
              "      <th>97</th>\n",
              "      <td>97</td>\n",
              "      <td>0.003408</td>\n",
              "    </tr>\n",
              "    <tr>\n",
              "      <th>98</th>\n",
              "      <td>98</td>\n",
              "      <td>0.004181</td>\n",
              "    </tr>\n",
              "    <tr>\n",
              "      <th>99</th>\n",
              "      <td>99</td>\n",
              "      <td>0.004959</td>\n",
              "    </tr>\n",
              "  </tbody>\n",
              "</table>\n",
              "<p>100 rows × 2 columns</p>\n",
              "</div>"
            ],
            "text/plain": [
              "    Feature     Score\n",
              "0         0  0.015976\n",
              "1         1  0.019830\n",
              "2         2  0.043678\n",
              "3         3  0.033864\n",
              "4         4  0.012424\n",
              "..      ...       ...\n",
              "95       95  0.003923\n",
              "96       96  0.003086\n",
              "97       97  0.003408\n",
              "98       98  0.004181\n",
              "99       99  0.004959\n",
              "\n",
              "[100 rows x 2 columns]"
            ]
          },
          "metadata": {
            "tags": []
          },
          "execution_count": 10
        }
      ]
    },
    {
      "cell_type": "code",
      "metadata": {
        "colab": {
          "base_uri": "https://localhost:8080/",
          "height": 402
        },
        "id": "gxlNzC5ssK2O",
        "outputId": "7c0bd8f7-6da8-4503-f069-18c6dcc55e38"
      },
      "source": [
        "df.sort_values(by=['Score'],ascending=False,inplace=True)\n",
        "df = df.reset_index(drop=True)\n",
        "df"
      ],
      "execution_count": null,
      "outputs": [
        {
          "output_type": "execute_result",
          "data": {
            "text/html": [
              "<div>\n",
              "<style scoped>\n",
              "    .dataframe tbody tr th:only-of-type {\n",
              "        vertical-align: middle;\n",
              "    }\n",
              "\n",
              "    .dataframe tbody tr th {\n",
              "        vertical-align: top;\n",
              "    }\n",
              "\n",
              "    .dataframe thead th {\n",
              "        text-align: right;\n",
              "    }\n",
              "</style>\n",
              "<table border=\"1\" class=\"dataframe\">\n",
              "  <thead>\n",
              "    <tr style=\"text-align: right;\">\n",
              "      <th></th>\n",
              "      <th>Feature</th>\n",
              "      <th>Score</th>\n",
              "    </tr>\n",
              "  </thead>\n",
              "  <tbody>\n",
              "    <tr>\n",
              "      <th>0</th>\n",
              "      <td>7</td>\n",
              "      <td>0.114721</td>\n",
              "    </tr>\n",
              "    <tr>\n",
              "      <th>1</th>\n",
              "      <td>11</td>\n",
              "      <td>0.050992</td>\n",
              "    </tr>\n",
              "    <tr>\n",
              "      <th>2</th>\n",
              "      <td>2</td>\n",
              "      <td>0.043678</td>\n",
              "    </tr>\n",
              "    <tr>\n",
              "      <th>3</th>\n",
              "      <td>6</td>\n",
              "      <td>0.042787</td>\n",
              "    </tr>\n",
              "    <tr>\n",
              "      <th>4</th>\n",
              "      <td>13</td>\n",
              "      <td>0.033976</td>\n",
              "    </tr>\n",
              "    <tr>\n",
              "      <th>...</th>\n",
              "      <td>...</td>\n",
              "      <td>...</td>\n",
              "    </tr>\n",
              "    <tr>\n",
              "      <th>95</th>\n",
              "      <td>33</td>\n",
              "      <td>0.003327</td>\n",
              "    </tr>\n",
              "    <tr>\n",
              "      <th>96</th>\n",
              "      <td>91</td>\n",
              "      <td>0.003278</td>\n",
              "    </tr>\n",
              "    <tr>\n",
              "      <th>97</th>\n",
              "      <td>62</td>\n",
              "      <td>0.003227</td>\n",
              "    </tr>\n",
              "    <tr>\n",
              "      <th>98</th>\n",
              "      <td>74</td>\n",
              "      <td>0.003188</td>\n",
              "    </tr>\n",
              "    <tr>\n",
              "      <th>99</th>\n",
              "      <td>96</td>\n",
              "      <td>0.003086</td>\n",
              "    </tr>\n",
              "  </tbody>\n",
              "</table>\n",
              "<p>100 rows × 2 columns</p>\n",
              "</div>"
            ],
            "text/plain": [
              "    Feature     Score\n",
              "0         7  0.114721\n",
              "1        11  0.050992\n",
              "2         2  0.043678\n",
              "3         6  0.042787\n",
              "4        13  0.033976\n",
              "..      ...       ...\n",
              "95       33  0.003327\n",
              "96       91  0.003278\n",
              "97       62  0.003227\n",
              "98       74  0.003188\n",
              "99       96  0.003086\n",
              "\n",
              "[100 rows x 2 columns]"
            ]
          },
          "metadata": {
            "tags": []
          },
          "execution_count": 11
        }
      ]
    },
    {
      "cell_type": "code",
      "metadata": {
        "id": "ltP0Gw3M08jD",
        "colab": {
          "base_uri": "https://localhost:8080/"
        },
        "outputId": "eea442c0-397f-4f35-bc4c-f4b271b18927"
      },
      "source": [
        "s = df['Feature']\n",
        "new_x = pd.DataFrame(columns = x.columns)\n",
        "new_y = pd.DataFrame(columns = y.columns)\n",
        "# print(new_x)\n",
        "for j in range(4,5000,5):\n",
        "  new_x = new_x.append(x.iloc[j], ignore_index = True)\n",
        "  new_y = new_y.append(y.iloc[j],ignore_index = True)\n",
        "for i in range(10):\n",
        "  a = s[i]\n",
        "\n",
        "  for j in range(len(new_x)):\n",
        "\n",
        "    new_x.iloc[j,a] = 0 - new_x.iloc[j,a]\n",
        "\n",
        "print(new_x.head())\n",
        "print(new_y.head())\n"
      ],
      "execution_count": null,
      "outputs": [
        {
          "output_type": "stream",
          "text": [
            "         PC1       PC2       PC3  ...      PC98      PC99     PC100\n",
            "0  -9.305109  0.282422 -1.826068  ... -0.202072  0.346191  0.094050\n",
            "1 -10.236613 -3.747118 -5.359542  ... -1.167930  1.010020  0.525235\n",
            "2  -9.758729 -2.023547 -6.413423  ... -0.032967 -1.085357  1.462529\n",
            "3  -8.422165 -1.043668 -4.156373  ...  0.940311  0.345689  0.250597\n",
            "4 -10.847515 -4.110501 -6.517017  ... -0.167398  0.189413  0.009320\n",
            "\n",
            "[5 rows x 100 columns]\n",
            "  malware\n",
            "0       0\n",
            "1       0\n",
            "2       0\n",
            "3       0\n",
            "4       0\n"
          ],
          "name": "stdout"
        }
      ]
    },
    {
      "cell_type": "code",
      "metadata": {
        "colab": {
          "base_uri": "https://localhost:8080/",
          "height": 286
        },
        "id": "rGAMHXrtFfO8",
        "outputId": "d0e6a0db-26b2-4b78-827f-f3a1f40bdd7b"
      },
      "source": [
        "y_pred2 = clf2.predict(new_x)\n",
        "new_y = new_y.astype(int)\n",
        "\n",
        "acc_rmf_model = roc_auc_score(new_y, y_pred2)*100\n",
        "print(\"RF Accuracy: \", acc_rmf_model)\n",
        "plot_confusion_matrix(new_y, y_pred2)"
      ],
      "execution_count": null,
      "outputs": [
        {
          "output_type": "stream",
          "text": [
            "RF Accuracy:  57.754197022489706\n"
          ],
          "name": "stdout"
        },
        {
          "output_type": "display_data",
          "data": {
            "image/png": "[encoded data removed]",
            "text/plain": [
              "<Figure size 432x288 with 2 Axes>"
            ]
          },
          "metadata": {
            "tags": [],
            "needs_background": "light"
          }
        }
      ]
    },
    {
      "cell_type": "code",
      "metadata": {
        "id": "9YAr4iYuMiIz"
      },
      "source": [
        "x_train, x_test, y_train, y_test = train_test_split(x, y, test_size=0.3, random_state=1)"
      ],
      "execution_count": null,
      "outputs": []
    },
    {
      "cell_type": "code",
      "metadata": {
        "colab": {
          "base_uri": "https://localhost:8080/"
        },
        "id": "cDKhhceTK-rA",
        "outputId": "87bb51b4-085d-443d-c83f-313ad91e25f4"
      },
      "source": [
        "new_x_wadv = pd.DataFrame(data = x, columns = x.columns)\n",
        "new_y_wadv = pd.DataFrame(data = y, columns = y.columns)\n",
        "for i in range(1000):\n",
        "  new_x_wadv = new_x_wadv.append(new_x.iloc[i], ignore_index = True)\n",
        "  new_y_wadv = new_y_wadv.append(new_y.iloc[i],ignore_index = True)\n",
        "\n",
        "print(new_x_wadv.shape, new_y_wadv.shape)\n"
      ],
      "execution_count": null,
      "outputs": [
        {
          "output_type": "stream",
          "text": [
            "(6000, 100) (6000, 1)\n"
          ],
          "name": "stdout"
        }
      ]
    },
    {
      "cell_type": "code",
      "metadata": {
        "id": "luBeg7kD88I1",
        "colab": {
          "base_uri": "https://localhost:8080/",
          "height": 352
        },
        "outputId": "da987d0c-5123-42b5-91d5-233a2053165a"
      },
      "source": [
        "new_x_wadv_train, new_x_wadv_test, new_y_wadv_train, new_y_wadv_test = train_test_split(new_x_wadv, new_y_wadv, test_size=0.3, random_state=1)\n",
        "clf_new= RandomForestClassifier(max_depth=45, random_state=4).fit(new_x_wadv_train, new_y_wadv_train)\n",
        "y_pred2 = clf2.predict(new_x_wadv_test)\n",
        "acc_rmf_model = roc_auc_score(new_y_wadv_test, y_pred2)*100\n",
        "save_model = True\n",
        "\n",
        "if save_model:\n",
        "  joblib.dump(clf2, rf_model_filename)\n",
        "  print(\"RF Model Saved to \", rf_model_filename)\n",
        "\n",
        "print(\"RF Accuracy: \", acc_rmf_model)\n",
        "plot_confusion_matrix(new_y_wadv_test, y_pred2)"
      ],
      "execution_count": null,
      "outputs": [
        {
          "output_type": "stream",
          "text": [
            "/usr/local/lib/python3.7/dist-packages/ipykernel_launcher.py:2: DataConversionWarning: A column-vector y was passed when a 1d array was expected. Please change the shape of y to (n_samples,), for example using ravel().\n",
            "  \n"
          ],
          "name": "stderr"
        },
        {
          "output_type": "stream",
          "text": [
            "RF Model Saved to  rfjoblib_file.sav\n",
            "RF Accuracy:  88.81481481481481\n"
          ],
          "name": "stdout"
        },
        {
          "output_type": "display_data",
          "data": {
            "image/png": "[encoded data removed]",
            "text/plain": [
              "<Figure size 432x288 with 2 Axes>"
            ]
          },
          "metadata": {
            "tags": [],
            "needs_background": "light"
          }
        }
      ]
    },
    {
      "cell_type": "code",
      "metadata": {
        "colab": {
          "base_uri": "https://localhost:8080/",
          "height": 282
        },
        "id": "WK3AJmlPTWg5",
        "outputId": "1aae949e-98f6-49c9-eccb-2f0c2b6362c2"
      },
      "source": [
        "y_pred = clf.predict(new_x)\n",
        "acc_knb_model=roc_auc_score(new_y, y_pred)*100\n",
        "\n",
        "print(\"KNN Accuracy: \", acc_knb_model)\n",
        "plot_confusion_matrix(new_y, y_pred)"
      ],
      "execution_count": null,
      "outputs": [
        {
          "output_type": "stream",
          "text": [
            "KNN Accuracy:  46.099672685038534\n"
          ],
          "name": "stdout"
        },
        {
          "output_type": "display_data",
          "data": {
            "image/png": "[encoded data removed]",
            "text/plain": [
              "<Figure size 432x288 with 2 Axes>"
            ]
          },
          "metadata": {
            "tags": [],
            "needs_background": "light"
          }
        }
      ]
    },
    {
      "cell_type": "code",
      "metadata": {
        "colab": {
          "base_uri": "https://localhost:8080/",
          "height": 352
        },
        "id": "WR376tOCUKZY",
        "outputId": "609973e4-763b-4a2a-d45c-2c970dc1b3ec"
      },
      "source": [
        "knn = KNeighborsClassifier(n_neighbors=12)\n",
        "clf = knn.fit(new_x_wadv_train, new_y_wadv_train)\n",
        "y_pred = clf.predict(new_x_wadv_test)\n",
        "acc_knb_model=roc_auc_score(new_y_wadv_test, y_pred)*100\n",
        "save_model = True\n",
        "\n",
        "if save_model:\n",
        "  joblib.dump(knn, knn_model_filename)\n",
        "  print(\"KNN Model Saved to \", knn_model_filename)\n",
        "\n",
        "print(\"KNN Accuracy: \", acc_knb_model)\n",
        "plot_confusion_matrix(new_y_wadv_test, y_pred)"
      ],
      "execution_count": null,
      "outputs": [
        {
          "output_type": "stream",
          "text": [
            "/usr/local/lib/python3.7/dist-packages/ipykernel_launcher.py:2: DataConversionWarning: A column-vector y was passed when a 1d array was expected. Please change the shape of y to (n_samples, ), for example using ravel().\n",
            "  \n"
          ],
          "name": "stderr"
        },
        {
          "output_type": "stream",
          "text": [
            "KNN Model Saved to  knnjoblib_file.sav\n",
            "KNN Accuracy:  89.61481481481482\n"
          ],
          "name": "stdout"
        },
        {
          "output_type": "display_data",
          "data": {
            "image/png": "[encoded data removed]",
            "text/plain": [
              "<Figure size 432x288 with 2 Axes>"
            ]
          },
          "metadata": {
            "tags": [],
            "needs_background": "light"
          }
        }
      ]
    },
    {
      "cell_type": "markdown",
      "metadata": {
        "id": "ICpH2FXDZm46"
      },
      "source": [
        "###LineBreak"
      ]
    },
    {
      "cell_type": "code",
      "metadata": {
        "id": "Y-z8oplCRVAk",
        "colab": {
          "base_uri": "https://localhost:8080/",
          "height": 352
        },
        "outputId": "0a1c7e98-6095-4307-f3f4-eb6b6a545cfe"
      },
      "source": [
        "knn = KNeighborsClassifier(n_neighbors=12)\n",
        "clf = knn.fit(x_train, y_train)\n",
        "y_pred = clf.predict(x_test)\n",
        "acc_knb_model=roc_auc_score(y_test, y_pred)*100\n",
        "save_model = True\n",
        "\n",
        "if save_model:\n",
        "  joblib.dump(knn, knn_model_filename)\n",
        "  print(\"KNN Model Saved to \", knn_model_filename)\n",
        "\n",
        "print(\"KNN Accuracy: \", acc_knb_model)\n",
        "plot_confusion_matrix(y_test, y_pred)"
      ],
      "execution_count": null,
      "outputs": [
        {
          "output_type": "stream",
          "text": [
            "/usr/local/lib/python3.7/dist-packages/ipykernel_launcher.py:2: DataConversionWarning: A column-vector y was passed when a 1d array was expected. Please change the shape of y to (n_samples, ), for example using ravel().\n",
            "  \n"
          ],
          "name": "stderr"
        },
        {
          "output_type": "stream",
          "text": [
            "KNN Model Saved to  knnjoblib_file.sav\n",
            "KNN Accuracy:  90.89541912999725\n"
          ],
          "name": "stdout"
        },
        {
          "output_type": "display_data",
          "data": {
            "image/png": "[encoded data removed]",
            "text/plain": [
              "<Figure size 432x288 with 2 Axes>"
            ]
          },
          "metadata": {
            "tags": [],
            "needs_background": "light"
          }
        }
      ]
    },
    {
      "cell_type": "code",
      "metadata": {
        "id": "DvFcHBy3T1WH",
        "colab": {
          "base_uri": "https://localhost:8080/",
          "height": 352
        },
        "outputId": "95b4d66a-eb46-49eb-b98d-ef9a67ac3866"
      },
      "source": [
        "clf2 = RandomForestClassifier(max_depth=45, random_state=4).fit(x_train, y_train)\n",
        "y_pred2 = clf2.predict(x_test)\n",
        "acc_rmf_model = roc_auc_score(y_test, y_pred2)*100\n",
        "save_model = True\n",
        "\n",
        "if save_model:\n",
        "  joblib.dump(clf2, rf_model_filename)\n",
        "  print(\"RF Model Saved to \", rf_model_filename)\n",
        "\n",
        "print(\"RF Accuracy: \", acc_rmf_model)\n",
        "plot_confusion_matrix(y_test, y_pred2)"
      ],
      "execution_count": null,
      "outputs": [
        {
          "output_type": "stream",
          "text": [
            "/usr/local/lib/python3.7/dist-packages/ipykernel_launcher.py:1: DataConversionWarning: A column-vector y was passed when a 1d array was expected. Please change the shape of y to (n_samples,), for example using ravel().\n",
            "  \"\"\"Entry point for launching an IPython kernel.\n"
          ],
          "name": "stderr"
        },
        {
          "output_type": "stream",
          "text": [
            "RF Model Saved to  rfjoblib_file.sav\n",
            "RF Accuracy:  93.0330598080637\n"
          ],
          "name": "stdout"
        },
        {
          "output_type": "display_data",
          "data": {
            "image/png": "[encoded data removed]",
            "text/plain": [
              "<Figure size 432x288 with 2 Axes>"
            ]
          },
          "metadata": {
            "tags": [],
            "needs_background": "light"
          }
        }
      ]
    },
    {
      "cell_type": "markdown",
      "metadata": {
        "id": "ElYo39EJHZ-4"
      },
      "source": [
        "# **Hybrid Classifier**"
      ]
    },
    {
      "cell_type": "code",
      "metadata": {
        "id": "kVeim0qXIMBJ"
      },
      "source": [
        "pip install keras-adabound"
      ],
      "execution_count": null,
      "outputs": []
    },
    {
      "cell_type": "code",
      "metadata": {
        "id": "_V1-WSubIS-P"
      },
      "source": [
        "from keras_adabound import AdaBound"
      ],
      "execution_count": null,
      "outputs": []
    },
    {
      "cell_type": "code",
      "metadata": {
        "id": "8iLEpGZJHgfc"
      },
      "source": [
        "from keras.models import Sequential\n",
        "from keras.layers import Dense, Activation\n",
        "from keras.activations import sigmoid\n",
        "from keras.optimizers import SGD\n",
        "from keras.losses import binary_crossentropy\n",
        "from keras.utils import to_categorical"
      ],
      "execution_count": null,
      "outputs": []
    },
    {
      "cell_type": "code",
      "metadata": {
        "id": "YRsqzDnWBt_f"
      },
      "source": [
        "def get_hybrid_dataset():\n",
        "  x, y = get_data()\n",
        "  df = get_predictions_and_probabilities_KNN_and_RF(x)\n",
        "  for col in df.columns:\n",
        "    x[col] = list(df[col])\n",
        "  return x, y"
      ],
      "execution_count": null,
      "outputs": []
    },
    {
      "cell_type": "code",
      "metadata": {
        "id": "f_kQcphaBs1b",
        "colab": {
          "base_uri": "https://localhost:8080/"
        },
        "outputId": "f8615c68-e997-4672-c243-8ad11a384c49"
      },
      "source": [
        "x, y = get_hybrid_dataset()\n",
        "x_train, x_test, y_train, y_test = get_train_test_split(x, y)"
      ],
      "execution_count": null,
      "outputs": [
        {
          "output_type": "stream",
          "text": [
            "   KNN Pred Prob 0  KNN Pred Prob 1  RF Pred Prob 0  RF Pred Prob 1\n",
            "0         1.000000         0.000000        0.874133        0.125867\n",
            "1         1.000000         0.000000        0.834000        0.166000\n",
            "2         1.000000         0.000000        0.975000        0.025000\n",
            "3         0.916667         0.083333        0.910000        0.090000\n",
            "4         0.083333         0.916667        0.633846        0.366154\n"
          ],
          "name": "stdout"
        }
      ]
    },
    {
      "cell_type": "code",
      "metadata": {
        "id": "xXvmLS3FHW89"
      },
      "source": [
        "model = Sequential()\n",
        "layers = [Dense(104), Dense(416), Dense(208), Dense(52), Dense(13), Dense(4), Dense(1), Activation(sigmoid)]\n",
        "for layer in layers:\n",
        "  model.add(layer)"
      ],
      "execution_count": null,
      "outputs": []
    },
    {
      "cell_type": "code",
      "metadata": {
        "id": "5xaPOZQDKmlg"
      },
      "source": [
        "model.compile(optimizer = SGD(learning_rate=0.002, momentum=0.99), loss = binary_crossentropy, metrics=[\"accuracy\"])"
      ],
      "execution_count": null,
      "outputs": []
    },
    {
      "cell_type": "code",
      "metadata": {
        "colab": {
          "base_uri": "https://localhost:8080/"
        },
        "id": "vKwFCqcSK9Jx",
        "outputId": "e1ff3d12-4260-49f4-b687-0b1c9d42b680"
      },
      "source": [
        "history = model.fit(x_train, y_train, epochs=200, batch_size=250)"
      ],
      "execution_count": null,
      "outputs": [
        {
          "output_type": "stream",
          "text": [
            "Epoch 1/200\n",
            "14/14 [==============================] - 1s 3ms/step - loss: 0.9979 - accuracy: 0.5933\n",
            "Epoch 2/200\n",
            "14/14 [==============================] - 0s 3ms/step - loss: 0.4581 - accuracy: 0.8170\n",
            "Epoch 3/200\n",
            "14/14 [==============================] - 0s 3ms/step - loss: 0.4169 - accuracy: 0.8451\n",
            "Epoch 4/200\n",
            "14/14 [==============================] - 0s 3ms/step - loss: 0.3491 - accuracy: 0.8855\n",
            "Epoch 5/200\n",
            "14/14 [==============================] - 0s 3ms/step - loss: 0.2781 - accuracy: 0.8937\n",
            "Epoch 6/200\n",
            "14/14 [==============================] - 0s 3ms/step - loss: 0.2698 - accuracy: 0.8964\n",
            "Epoch 7/200\n",
            "14/14 [==============================] - 0s 3ms/step - loss: 0.2722 - accuracy: 0.9138\n",
            "Epoch 8/200\n",
            "14/14 [==============================] - 0s 3ms/step - loss: 0.2466 - accuracy: 0.8954\n",
            "Epoch 9/200\n",
            "14/14 [==============================] - 0s 4ms/step - loss: 0.2260 - accuracy: 0.9222\n",
            "Epoch 10/200\n",
            "14/14 [==============================] - 0s 3ms/step - loss: 0.2348 - accuracy: 0.9157\n",
            "Epoch 11/200\n",
            "14/14 [==============================] - 0s 3ms/step - loss: 0.2118 - accuracy: 0.9342\n",
            "Epoch 12/200\n",
            "14/14 [==============================] - 0s 3ms/step - loss: 0.2096 - accuracy: 0.9244\n",
            "Epoch 13/200\n",
            "14/14 [==============================] - 0s 3ms/step - loss: 0.2159 - accuracy: 0.9206\n",
            "Epoch 14/200\n",
            "14/14 [==============================] - 0s 3ms/step - loss: 0.2023 - accuracy: 0.9235\n",
            "Epoch 15/200\n",
            "14/14 [==============================] - 0s 3ms/step - loss: 0.1858 - accuracy: 0.9372\n",
            "Epoch 16/200\n",
            "14/14 [==============================] - 0s 3ms/step - loss: 0.1988 - accuracy: 0.9219\n",
            "Epoch 17/200\n",
            "14/14 [==============================] - 0s 3ms/step - loss: 0.1807 - accuracy: 0.9313\n",
            "Epoch 18/200\n",
            "14/14 [==============================] - 0s 3ms/step - loss: 0.2027 - accuracy: 0.9244\n",
            "Epoch 19/200\n",
            "14/14 [==============================] - 0s 3ms/step - loss: 0.1960 - accuracy: 0.9242\n",
            "Epoch 20/200\n",
            "14/14 [==============================] - 0s 4ms/step - loss: 0.1896 - accuracy: 0.9357\n",
            "Epoch 21/200\n",
            "14/14 [==============================] - 0s 3ms/step - loss: 0.1871 - accuracy: 0.9381\n",
            "Epoch 22/200\n",
            "14/14 [==============================] - 0s 3ms/step - loss: 0.1723 - accuracy: 0.9392\n",
            "Epoch 23/200\n",
            "14/14 [==============================] - 0s 3ms/step - loss: 0.1805 - accuracy: 0.9373\n",
            "Epoch 24/200\n",
            "14/14 [==============================] - 0s 4ms/step - loss: 0.1783 - accuracy: 0.9440\n",
            "Epoch 25/200\n",
            "14/14 [==============================] - 0s 3ms/step - loss: 0.1711 - accuracy: 0.9441\n",
            "Epoch 26/200\n",
            "14/14 [==============================] - 0s 3ms/step - loss: 0.1612 - accuracy: 0.9476\n",
            "Epoch 27/200\n",
            "14/14 [==============================] - 0s 4ms/step - loss: 0.1668 - accuracy: 0.9444\n",
            "Epoch 28/200\n",
            "14/14 [==============================] - 0s 4ms/step - loss: 0.1525 - accuracy: 0.9475\n",
            "Epoch 29/200\n",
            "14/14 [==============================] - 0s 3ms/step - loss: 0.1602 - accuracy: 0.9461\n",
            "Epoch 30/200\n",
            "14/14 [==============================] - 0s 3ms/step - loss: 0.1522 - accuracy: 0.9464\n",
            "Epoch 31/200\n",
            "14/14 [==============================] - 0s 3ms/step - loss: 0.1466 - accuracy: 0.9499\n",
            "Epoch 32/200\n",
            "14/14 [==============================] - 0s 3ms/step - loss: 0.1589 - accuracy: 0.9423\n",
            "Epoch 33/200\n",
            "14/14 [==============================] - 0s 4ms/step - loss: 0.1404 - accuracy: 0.9495\n",
            "Epoch 34/200\n",
            "14/14 [==============================] - 0s 3ms/step - loss: 0.1354 - accuracy: 0.9509\n",
            "Epoch 35/200\n",
            "14/14 [==============================] - 0s 3ms/step - loss: 0.1408 - accuracy: 0.9501\n",
            "Epoch 36/200\n",
            "14/14 [==============================] - 0s 3ms/step - loss: 0.1392 - accuracy: 0.9511\n",
            "Epoch 37/200\n",
            "14/14 [==============================] - 0s 3ms/step - loss: 0.1343 - accuracy: 0.9531\n",
            "Epoch 38/200\n",
            "14/14 [==============================] - 0s 3ms/step - loss: 0.1406 - accuracy: 0.9476\n",
            "Epoch 39/200\n",
            "14/14 [==============================] - 0s 3ms/step - loss: 0.1380 - accuracy: 0.9484\n",
            "Epoch 40/200\n",
            "14/14 [==============================] - 0s 3ms/step - loss: 0.1438 - accuracy: 0.9500\n",
            "Epoch 41/200\n",
            "14/14 [==============================] - 0s 3ms/step - loss: 0.1388 - accuracy: 0.9565\n",
            "Epoch 42/200\n",
            "14/14 [==============================] - 0s 3ms/step - loss: 0.1246 - accuracy: 0.9554\n",
            "Epoch 43/200\n",
            "14/14 [==============================] - 0s 3ms/step - loss: 0.1278 - accuracy: 0.9569\n",
            "Epoch 44/200\n",
            "14/14 [==============================] - 0s 3ms/step - loss: 0.1280 - accuracy: 0.9560\n",
            "Epoch 45/200\n",
            "14/14 [==============================] - 0s 3ms/step - loss: 0.1250 - accuracy: 0.9568\n",
            "Epoch 46/200\n",
            "14/14 [==============================] - 0s 4ms/step - loss: 0.1281 - accuracy: 0.9567\n",
            "Epoch 47/200\n",
            "14/14 [==============================] - 0s 3ms/step - loss: 0.1342 - accuracy: 0.9562\n",
            "Epoch 48/200\n",
            "14/14 [==============================] - 0s 4ms/step - loss: 0.1296 - accuracy: 0.9569\n",
            "Epoch 49/200\n",
            "14/14 [==============================] - 0s 3ms/step - loss: 0.1443 - accuracy: 0.9550\n",
            "Epoch 50/200\n",
            "14/14 [==============================] - 0s 3ms/step - loss: 0.1238 - accuracy: 0.9584\n",
            "Epoch 51/200\n",
            "14/14 [==============================] - 0s 3ms/step - loss: 0.1325 - accuracy: 0.9548\n",
            "Epoch 52/200\n",
            "14/14 [==============================] - 0s 3ms/step - loss: 0.1395 - accuracy: 0.9576\n",
            "Epoch 53/200\n",
            "14/14 [==============================] - 0s 4ms/step - loss: 0.1385 - accuracy: 0.9578\n",
            "Epoch 54/200\n",
            "14/14 [==============================] - 0s 3ms/step - loss: 0.1341 - accuracy: 0.9607\n",
            "Epoch 55/200\n",
            "14/14 [==============================] - 0s 3ms/step - loss: 0.1196 - accuracy: 0.9589\n",
            "Epoch 56/200\n",
            "14/14 [==============================] - 0s 3ms/step - loss: 0.1160 - accuracy: 0.9611\n",
            "Epoch 57/200\n",
            "14/14 [==============================] - 0s 3ms/step - loss: 0.1201 - accuracy: 0.9635\n",
            "Epoch 58/200\n",
            "14/14 [==============================] - 0s 3ms/step - loss: 0.1180 - accuracy: 0.9615\n",
            "Epoch 59/200\n",
            "14/14 [==============================] - 0s 4ms/step - loss: 0.1160 - accuracy: 0.9623\n",
            "Epoch 60/200\n",
            "14/14 [==============================] - 0s 3ms/step - loss: 0.0965 - accuracy: 0.9679\n",
            "Epoch 61/200\n",
            "14/14 [==============================] - 0s 4ms/step - loss: 0.1027 - accuracy: 0.9638\n",
            "Epoch 62/200\n",
            "14/14 [==============================] - 0s 3ms/step - loss: 0.1065 - accuracy: 0.9649\n",
            "Epoch 63/200\n",
            "14/14 [==============================] - 0s 3ms/step - loss: 0.0973 - accuracy: 0.9694\n",
            "Epoch 64/200\n",
            "14/14 [==============================] - 0s 3ms/step - loss: 0.1177 - accuracy: 0.9651\n",
            "Epoch 65/200\n",
            "14/14 [==============================] - 0s 4ms/step - loss: 0.1141 - accuracy: 0.9630\n",
            "Epoch 66/200\n",
            "14/14 [==============================] - 0s 3ms/step - loss: 0.1190 - accuracy: 0.9643\n",
            "Epoch 67/200\n",
            "14/14 [==============================] - 0s 3ms/step - loss: 0.1311 - accuracy: 0.9562\n",
            "Epoch 68/200\n",
            "14/14 [==============================] - 0s 3ms/step - loss: 0.1216 - accuracy: 0.9621\n",
            "Epoch 69/200\n",
            "14/14 [==============================] - 0s 4ms/step - loss: 0.1256 - accuracy: 0.9605\n",
            "Epoch 70/200\n",
            "14/14 [==============================] - 0s 3ms/step - loss: 0.1151 - accuracy: 0.9652\n",
            "Epoch 71/200\n",
            "14/14 [==============================] - 0s 3ms/step - loss: 0.1141 - accuracy: 0.9633\n",
            "Epoch 72/200\n",
            "14/14 [==============================] - 0s 3ms/step - loss: 0.1172 - accuracy: 0.9666\n",
            "Epoch 73/200\n",
            "14/14 [==============================] - 0s 3ms/step - loss: 0.1131 - accuracy: 0.9654\n",
            "Epoch 74/200\n",
            "14/14 [==============================] - 0s 3ms/step - loss: 0.1144 - accuracy: 0.9630\n",
            "Epoch 75/200\n",
            "14/14 [==============================] - 0s 3ms/step - loss: 0.1078 - accuracy: 0.9629\n",
            "Epoch 76/200\n",
            "14/14 [==============================] - 0s 3ms/step - loss: 0.1015 - accuracy: 0.9667\n",
            "Epoch 77/200\n",
            "14/14 [==============================] - 0s 3ms/step - loss: 0.1096 - accuracy: 0.9607\n",
            "Epoch 78/200\n",
            "14/14 [==============================] - 0s 3ms/step - loss: 0.1020 - accuracy: 0.9659\n",
            "Epoch 79/200\n",
            "14/14 [==============================] - 0s 3ms/step - loss: 0.0969 - accuracy: 0.9666\n",
            "Epoch 80/200\n",
            "14/14 [==============================] - 0s 3ms/step - loss: 0.0996 - accuracy: 0.9666\n",
            "Epoch 81/200\n",
            "14/14 [==============================] - 0s 3ms/step - loss: 0.0956 - accuracy: 0.9701\n",
            "Epoch 82/200\n",
            "14/14 [==============================] - 0s 3ms/step - loss: 0.0907 - accuracy: 0.9719\n",
            "Epoch 83/200\n",
            "14/14 [==============================] - 0s 4ms/step - loss: 0.1016 - accuracy: 0.9526\n",
            "Epoch 84/200\n",
            "14/14 [==============================] - 0s 3ms/step - loss: 0.1140 - accuracy: 0.9679\n",
            "Epoch 85/200\n",
            "14/14 [==============================] - 0s 3ms/step - loss: 0.1074 - accuracy: 0.9709\n",
            "Epoch 86/200\n",
            "14/14 [==============================] - 0s 3ms/step - loss: 0.1208 - accuracy: 0.9573\n",
            "Epoch 87/200\n",
            "14/14 [==============================] - 0s 3ms/step - loss: 0.1166 - accuracy: 0.9641\n",
            "Epoch 88/200\n",
            "14/14 [==============================] - 0s 3ms/step - loss: 0.1264 - accuracy: 0.9638\n",
            "Epoch 89/200\n",
            "14/14 [==============================] - 0s 3ms/step - loss: 0.1168 - accuracy: 0.9652\n",
            "Epoch 90/200\n",
            "14/14 [==============================] - 0s 3ms/step - loss: 0.1263 - accuracy: 0.9634\n",
            "Epoch 91/200\n",
            "14/14 [==============================] - 0s 3ms/step - loss: 0.1116 - accuracy: 0.9641\n",
            "Epoch 92/200\n",
            "14/14 [==============================] - 0s 3ms/step - loss: 0.1200 - accuracy: 0.9630\n",
            "Epoch 93/200\n",
            "14/14 [==============================] - 0s 3ms/step - loss: 0.1055 - accuracy: 0.9673\n",
            "Epoch 94/200\n",
            "14/14 [==============================] - 0s 3ms/step - loss: 0.1031 - accuracy: 0.9630\n",
            "Epoch 95/200\n",
            "14/14 [==============================] - 0s 3ms/step - loss: 0.0954 - accuracy: 0.9680\n",
            "Epoch 96/200\n",
            "14/14 [==============================] - 0s 3ms/step - loss: 0.1091 - accuracy: 0.9626\n",
            "Epoch 97/200\n",
            "14/14 [==============================] - 0s 3ms/step - loss: 0.0964 - accuracy: 0.9713\n",
            "Epoch 98/200\n",
            "14/14 [==============================] - 0s 4ms/step - loss: 0.0850 - accuracy: 0.9727\n",
            "Epoch 99/200\n",
            "14/14 [==============================] - 0s 3ms/step - loss: 0.0887 - accuracy: 0.9699\n",
            "Epoch 100/200\n",
            "14/14 [==============================] - 0s 3ms/step - loss: 0.0910 - accuracy: 0.9704\n",
            "Epoch 101/200\n",
            "14/14 [==============================] - 0s 4ms/step - loss: 0.0950 - accuracy: 0.9720\n",
            "Epoch 102/200\n",
            "14/14 [==============================] - 0s 3ms/step - loss: 0.0922 - accuracy: 0.9720\n",
            "Epoch 103/200\n",
            "14/14 [==============================] - 0s 3ms/step - loss: 0.0953 - accuracy: 0.9695\n",
            "Epoch 104/200\n",
            "14/14 [==============================] - 0s 3ms/step - loss: 0.1076 - accuracy: 0.9681\n",
            "Epoch 105/200\n",
            "14/14 [==============================] - 0s 3ms/step - loss: 0.0958 - accuracy: 0.9710\n",
            "Epoch 106/200\n",
            "14/14 [==============================] - 0s 3ms/step - loss: 0.0845 - accuracy: 0.9736\n",
            "Epoch 107/200\n",
            "14/14 [==============================] - 0s 4ms/step - loss: 0.1063 - accuracy: 0.9685\n",
            "Epoch 108/200\n",
            "14/14 [==============================] - 0s 3ms/step - loss: 0.0917 - accuracy: 0.9712\n",
            "Epoch 109/200\n",
            "14/14 [==============================] - 0s 3ms/step - loss: 0.0922 - accuracy: 0.9714\n",
            "Epoch 110/200\n",
            "14/14 [==============================] - 0s 3ms/step - loss: 0.0990 - accuracy: 0.9661\n",
            "Epoch 111/200\n",
            "14/14 [==============================] - 0s 4ms/step - loss: 0.0910 - accuracy: 0.9694\n",
            "Epoch 112/200\n",
            "14/14 [==============================] - 0s 3ms/step - loss: 0.0885 - accuracy: 0.9745\n",
            "Epoch 113/200\n",
            "14/14 [==============================] - 0s 3ms/step - loss: 0.0974 - accuracy: 0.9709\n",
            "Epoch 114/200\n",
            "14/14 [==============================] - 0s 3ms/step - loss: 0.0938 - accuracy: 0.9725\n",
            "Epoch 115/200\n",
            "14/14 [==============================] - 0s 3ms/step - loss: 0.0928 - accuracy: 0.9723\n",
            "Epoch 116/200\n",
            "14/14 [==============================] - 0s 3ms/step - loss: 0.0857 - accuracy: 0.9729\n",
            "Epoch 117/200\n",
            "14/14 [==============================] - 0s 4ms/step - loss: 0.0826 - accuracy: 0.9737\n",
            "Epoch 118/200\n",
            "14/14 [==============================] - 0s 4ms/step - loss: 0.0935 - accuracy: 0.9730\n",
            "Epoch 119/200\n",
            "14/14 [==============================] - 0s 4ms/step - loss: 0.1003 - accuracy: 0.9677\n",
            "Epoch 120/200\n",
            "14/14 [==============================] - 0s 3ms/step - loss: 0.0952 - accuracy: 0.9710\n",
            "Epoch 121/200\n",
            "14/14 [==============================] - 0s 3ms/step - loss: 0.1076 - accuracy: 0.9609\n",
            "Epoch 122/200\n",
            "14/14 [==============================] - 0s 3ms/step - loss: 0.1036 - accuracy: 0.9727\n",
            "Epoch 123/200\n",
            "14/14 [==============================] - 0s 3ms/step - loss: 0.1086 - accuracy: 0.9616\n",
            "Epoch 124/200\n",
            "14/14 [==============================] - 0s 3ms/step - loss: 0.1092 - accuracy: 0.9664\n",
            "Epoch 125/200\n",
            "14/14 [==============================] - 0s 3ms/step - loss: 0.1116 - accuracy: 0.9676\n",
            "Epoch 126/200\n",
            "14/14 [==============================] - 0s 3ms/step - loss: 0.1417 - accuracy: 0.9332\n",
            "Epoch 127/200\n",
            "14/14 [==============================] - 0s 3ms/step - loss: 0.1288 - accuracy: 0.9669\n",
            "Epoch 128/200\n",
            "14/14 [==============================] - 0s 3ms/step - loss: 0.1264 - accuracy: 0.9610\n",
            "Epoch 129/200\n",
            "14/14 [==============================] - 0s 3ms/step - loss: 0.1112 - accuracy: 0.9683\n",
            "Epoch 130/200\n",
            "14/14 [==============================] - 0s 3ms/step - loss: 0.1219 - accuracy: 0.9689\n",
            "Epoch 131/200\n",
            "14/14 [==============================] - 0s 3ms/step - loss: 0.1218 - accuracy: 0.9580\n",
            "Epoch 132/200\n",
            "14/14 [==============================] - 0s 3ms/step - loss: 0.1130 - accuracy: 0.9654\n",
            "Epoch 133/200\n",
            "14/14 [==============================] - 0s 3ms/step - loss: 0.1220 - accuracy: 0.9641\n",
            "Epoch 134/200\n",
            "14/14 [==============================] - 0s 3ms/step - loss: 0.1264 - accuracy: 0.9411\n",
            "Epoch 135/200\n",
            "14/14 [==============================] - 0s 3ms/step - loss: 0.1313 - accuracy: 0.9644\n",
            "Epoch 136/200\n",
            "14/14 [==============================] - 0s 5ms/step - loss: 0.1052 - accuracy: 0.9695\n",
            "Epoch 137/200\n",
            "14/14 [==============================] - 0s 4ms/step - loss: 0.1056 - accuracy: 0.9725\n",
            "Epoch 138/200\n",
            "14/14 [==============================] - 0s 3ms/step - loss: 0.1272 - accuracy: 0.9655\n",
            "Epoch 139/200\n",
            "14/14 [==============================] - 0s 3ms/step - loss: 0.0965 - accuracy: 0.9697\n",
            "Epoch 140/200\n",
            "14/14 [==============================] - 0s 4ms/step - loss: 0.1069 - accuracy: 0.9664\n",
            "Epoch 141/200\n",
            "14/14 [==============================] - 0s 3ms/step - loss: 0.0980 - accuracy: 0.9704\n",
            "Epoch 142/200\n",
            "14/14 [==============================] - 0s 3ms/step - loss: 0.0898 - accuracy: 0.9703\n",
            "Epoch 143/200\n",
            "14/14 [==============================] - 0s 3ms/step - loss: 0.0888 - accuracy: 0.9733\n",
            "Epoch 144/200\n",
            "14/14 [==============================] - 0s 3ms/step - loss: 0.0937 - accuracy: 0.9686\n",
            "Epoch 145/200\n",
            "14/14 [==============================] - 0s 4ms/step - loss: 0.0970 - accuracy: 0.9722\n",
            "Epoch 146/200\n",
            "14/14 [==============================] - 0s 3ms/step - loss: 0.0916 - accuracy: 0.9746\n",
            "Epoch 147/200\n",
            "14/14 [==============================] - 0s 3ms/step - loss: 0.0988 - accuracy: 0.9722\n",
            "Epoch 148/200\n",
            "14/14 [==============================] - 0s 3ms/step - loss: 0.0995 - accuracy: 0.9699\n",
            "Epoch 149/200\n",
            "14/14 [==============================] - 0s 3ms/step - loss: 0.0950 - accuracy: 0.9704\n",
            "Epoch 150/200\n",
            "14/14 [==============================] - 0s 3ms/step - loss: 0.0935 - accuracy: 0.9724\n",
            "Epoch 151/200\n",
            "14/14 [==============================] - 0s 3ms/step - loss: 0.0936 - accuracy: 0.9697\n",
            "Epoch 152/200\n",
            "14/14 [==============================] - 0s 3ms/step - loss: 0.0965 - accuracy: 0.9715\n",
            "Epoch 153/200\n",
            "14/14 [==============================] - 0s 3ms/step - loss: 0.0843 - accuracy: 0.9758\n",
            "Epoch 154/200\n",
            "14/14 [==============================] - 0s 3ms/step - loss: 0.1103 - accuracy: 0.9556\n",
            "Epoch 155/200\n",
            "14/14 [==============================] - 0s 4ms/step - loss: 0.1133 - accuracy: 0.9650\n",
            "Epoch 156/200\n",
            "14/14 [==============================] - 0s 3ms/step - loss: 0.0990 - accuracy: 0.9708\n",
            "Epoch 157/200\n",
            "14/14 [==============================] - 0s 3ms/step - loss: 0.0903 - accuracy: 0.9714\n",
            "Epoch 158/200\n",
            "14/14 [==============================] - 0s 3ms/step - loss: 0.0859 - accuracy: 0.9710\n",
            "Epoch 159/200\n",
            "14/14 [==============================] - 0s 3ms/step - loss: 0.0949 - accuracy: 0.9739\n",
            "Epoch 160/200\n",
            "14/14 [==============================] - 0s 4ms/step - loss: 0.0898 - accuracy: 0.9762\n",
            "Epoch 161/200\n",
            "14/14 [==============================] - 0s 4ms/step - loss: 0.0828 - accuracy: 0.9747\n",
            "Epoch 162/200\n",
            "14/14 [==============================] - 0s 3ms/step - loss: 0.0911 - accuracy: 0.9734\n",
            "Epoch 163/200\n",
            "14/14 [==============================] - 0s 3ms/step - loss: 0.0964 - accuracy: 0.9702\n",
            "Epoch 164/200\n",
            "14/14 [==============================] - 0s 3ms/step - loss: 0.0845 - accuracy: 0.9745\n",
            "Epoch 165/200\n",
            "14/14 [==============================] - 0s 3ms/step - loss: 0.0846 - accuracy: 0.9731\n",
            "Epoch 166/200\n",
            "14/14 [==============================] - 0s 3ms/step - loss: 0.0832 - accuracy: 0.9760\n",
            "Epoch 167/200\n",
            "14/14 [==============================] - 0s 3ms/step - loss: 0.1003 - accuracy: 0.9698\n",
            "Epoch 168/200\n",
            "14/14 [==============================] - 0s 3ms/step - loss: 0.0846 - accuracy: 0.9737\n",
            "Epoch 169/200\n",
            "14/14 [==============================] - 0s 3ms/step - loss: 0.0982 - accuracy: 0.9706\n",
            "Epoch 170/200\n",
            "14/14 [==============================] - 0s 4ms/step - loss: 0.0784 - accuracy: 0.9745\n",
            "Epoch 171/200\n",
            "14/14 [==============================] - 0s 3ms/step - loss: 0.1095 - accuracy: 0.9692\n",
            "Epoch 172/200\n",
            "14/14 [==============================] - 0s 3ms/step - loss: 0.0921 - accuracy: 0.9727\n",
            "Epoch 173/200\n",
            "14/14 [==============================] - 0s 4ms/step - loss: 0.0940 - accuracy: 0.9699\n",
            "Epoch 174/200\n",
            "14/14 [==============================] - 0s 3ms/step - loss: 0.0816 - accuracy: 0.9753\n",
            "Epoch 175/200\n",
            "14/14 [==============================] - 0s 3ms/step - loss: 0.0911 - accuracy: 0.9716\n",
            "Epoch 176/200\n",
            "14/14 [==============================] - 0s 3ms/step - loss: 0.0953 - accuracy: 0.9667\n",
            "Epoch 177/200\n",
            "14/14 [==============================] - 0s 4ms/step - loss: 0.0963 - accuracy: 0.9709\n",
            "Epoch 178/200\n",
            "14/14 [==============================] - 0s 3ms/step - loss: 0.0932 - accuracy: 0.9716\n",
            "Epoch 179/200\n",
            "14/14 [==============================] - 0s 4ms/step - loss: 0.0875 - accuracy: 0.9780\n",
            "Epoch 180/200\n",
            "14/14 [==============================] - 0s 4ms/step - loss: 0.0945 - accuracy: 0.9684\n",
            "Epoch 181/200\n",
            "14/14 [==============================] - 0s 3ms/step - loss: 0.1057 - accuracy: 0.9742\n",
            "Epoch 182/200\n",
            "14/14 [==============================] - 0s 3ms/step - loss: 0.1007 - accuracy: 0.9716\n",
            "Epoch 183/200\n",
            "14/14 [==============================] - 0s 3ms/step - loss: 0.0936 - accuracy: 0.9749\n",
            "Epoch 184/200\n",
            "14/14 [==============================] - 0s 3ms/step - loss: 0.0945 - accuracy: 0.9717\n",
            "Epoch 185/200\n",
            "14/14 [==============================] - 0s 3ms/step - loss: 0.0781 - accuracy: 0.9740\n",
            "Epoch 186/200\n",
            "14/14 [==============================] - 0s 4ms/step - loss: 0.0836 - accuracy: 0.9718\n",
            "Epoch 187/200\n",
            "14/14 [==============================] - 0s 4ms/step - loss: 0.1012 - accuracy: 0.9665\n",
            "Epoch 188/200\n",
            "14/14 [==============================] - 0s 4ms/step - loss: 0.0875 - accuracy: 0.9700\n",
            "Epoch 189/200\n",
            "14/14 [==============================] - 0s 4ms/step - loss: 0.0939 - accuracy: 0.9716\n",
            "Epoch 190/200\n",
            "14/14 [==============================] - 0s 4ms/step - loss: 0.0882 - accuracy: 0.9705\n",
            "Epoch 191/200\n",
            "14/14 [==============================] - 0s 4ms/step - loss: 0.0841 - accuracy: 0.9749\n",
            "Epoch 192/200\n",
            "14/14 [==============================] - 0s 3ms/step - loss: 0.0859 - accuracy: 0.9719\n",
            "Epoch 193/200\n",
            "14/14 [==============================] - 0s 3ms/step - loss: 0.0825 - accuracy: 0.9742\n",
            "Epoch 194/200\n",
            "14/14 [==============================] - 0s 3ms/step - loss: 0.0787 - accuracy: 0.9757\n",
            "Epoch 195/200\n",
            "14/14 [==============================] - 0s 3ms/step - loss: 0.0802 - accuracy: 0.9735\n",
            "Epoch 196/200\n",
            "14/14 [==============================] - 0s 3ms/step - loss: 0.0882 - accuracy: 0.9725\n",
            "Epoch 197/200\n",
            "14/14 [==============================] - 0s 4ms/step - loss: 0.0859 - accuracy: 0.9732\n",
            "Epoch 198/200\n",
            "14/14 [==============================] - 0s 3ms/step - loss: 0.0844 - accuracy: 0.9740\n",
            "Epoch 199/200\n",
            "14/14 [==============================] - 0s 3ms/step - loss: 0.0874 - accuracy: 0.9722\n",
            "Epoch 200/200\n",
            "14/14 [==============================] - 0s 3ms/step - loss: 0.0844 - accuracy: 0.9731\n"
          ],
          "name": "stdout"
        }
      ]
    },
    {
      "cell_type": "code",
      "metadata": {
        "colab": {
          "base_uri": "https://localhost:8080/",
          "height": 330
        },
        "id": "gCCwvKMoMmPA",
        "outputId": "72fd0b4d-fd3f-47c8-dab0-ae9943acae11"
      },
      "source": [
        "plt.plot(history.history['accuracy'])\n",
        "plt.plot(history.history['loss'])\n",
        "plt.ylabel('accuracy')\n",
        "plt.xlabel('epoch')\n",
        "plt.show()\n",
        "# \"Loss\"\n",
        "\n",
        "y_pred = model.predict(x_test)\n",
        "y_pred = (y_pred>0.5)\n",
        "print(confusion_matrix(y_pred,y_test))\n",
        "print(roc_auc_score(y_test, y_pred)*100)"
      ],
      "execution_count": null,
      "outputs": [
        {
          "output_type": "display_data",
          "data": {
            "image/png": "[encoded data removed]",
            "text/plain": [
              "<Figure size 432x288 with 1 Axes>"
            ]
          },
          "metadata": {
            "tags": [],
            "needs_background": "light"
          }
        },
        {
          "output_type": "stream",
          "text": [
            "[[614 237]\n",
            " [ 61 888]]\n",
            "84.94814814814815\n"
          ],
          "name": "stdout"
        }
      ]
    },
    {
      "cell_type": "code",
      "metadata": {
        "id": "j4WrMf2YeUIa"
      },
      "source": [
        "print(x.shape)"
      ],
      "execution_count": null,
      "outputs": []
    }
  ]
}