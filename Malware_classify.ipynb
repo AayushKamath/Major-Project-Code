{
  "nbformat": 4,
  "nbformat_minor": 0,
  "metadata": {
    "accelerator": "GPU",
    "colab": {
      "name": "Malware_classify.ipynb",
      "provenance": [],
      "collapsed_sections": []
    },
    "kernelspec": {
      "display_name": "Python 3",
      "name": "python3"
    },
    "language_info": {
      "name": "python"
    }
  },
  "cells": [
    {
      "cell_type": "code",
      "metadata": {
        "id": "yPHtdluMFUx-"
      },
      "source": [
        "import pandas as pd\n",
        "import numpy as np\n",
        "import matplotlib.pyplot as plt\n",
        "import seaborn as sns\n",
        "import joblib\n",
        "\n",
        "from pydrive.auth import GoogleAuth\n",
        "from pydrive.drive import GoogleDrive\n",
        "from google.colab import auth\n",
        "from oauth2client.client import GoogleCredentials\n",
        "\n",
        "from sklearn.model_selection import train_test_split\n",
        "from sklearn.metrics import roc_auc_score\n",
        "from sklearn.metrics import confusion_matrix\n",
        "from sklearn.ensemble import RandomForestClassifier\n",
        "from sklearn.neighbors import KNeighborsClassifier\n",
        "\n",
        "dataset_filename = 'top_1000_pe_imports.csv'\n",
        "knn_model_filename = 'knnjoblib_file.sav'\n",
        "rf_model_filename = 'rfjoblib_file.sav'\n",
        "save_model = True"
      ],
      "execution_count": null,
      "outputs": []
    },
    {
      "cell_type": "code",
      "metadata": {
        "id": "tpCbBu2ZMD9x"
      },
      "source": [
        "auth.authenticate_user()\n",
        "gauth = GoogleAuth()\n",
        "gauth.credentials = GoogleCredentials.get_application_default()\n",
        "drive = GoogleDrive(gauth)"
      ],
      "execution_count": null,
      "outputs": []
    },
    {
      "cell_type": "code",
      "metadata": {
        "id": "rlmOrh2sMKIb"
      },
      "source": [
        "# Dataset\n",
        "downloaded = drive.CreateFile({'id':\"1uoSqL1UqTDnwvMEqdMTX5i-DY9cSwLdu\"})\n",
        "downloaded.GetContentFile(dataset_filename)\n",
        "\n",
        "# if save_model == False:\n",
        "#   # KNN Model\n",
        "#   downloaded = drive.CreateFile({'id':\"1Z3S-ArOzvsdQiunGBDvSK5JeMOo3dVjs\"})\n",
        "#   downloaded.GetContentFile(knn_model_filename)\n",
        "#   # RF Model\n",
        "#   downloaded = drive.CreateFile({'id':\"1R-4_D02TqNlApBiI6CIzxTOuuv_hBMCD\"})\n",
        "#   downloaded.GetContentFile(rf_model_filename)"
      ],
      "execution_count": null,
      "outputs": []
    },
    {
      "cell_type": "code",
      "metadata": {
        "id": "w6qObGB-JbEq"
      },
      "source": [
        "def get_data():\n",
        "  data = pd.read_csv(dataset_filename)\n",
        "  data_sorted = data.sort_values('malware')\n",
        "  data_sorted = data_sorted.head(5000)\n",
        "  x = data_sorted.drop([\"malware\",\"hash\"], axis = 1)\n",
        "  y = data_sorted['malware']\n",
        "  x_train, x_test, y_train, y_test = train_test_split(x, y, test_size=0.3, random_state=1)\n",
        "  return (x, y)\n",
        "\n",
        "def get_train_test_split(x, y):\n",
        "  x_train, x_test, y_train, y_test = train_test_split(x, y, test_size=0.3, random_state=1)\n",
        "  return (x_train, x_test, y_train, y_test)\n",
        "\n",
        "def plot_confusion_matrix(y_test, y_pred):\n",
        "  cf_matrix1= confusion_matrix(y_test, y_pred)\n",
        "  group_names = [\"TrueNeg\",\"FalsePos\",\"FalseNeg\",\"TruePos\"]\n",
        "  group_counts = [\"{0:0.0f}\".format(value) for value in\n",
        "                  cf_matrix1.flatten()]\n",
        "  group_percentages = [\"{0:.2%}\".format(value) for value in\n",
        "                      cf_matrix1.flatten()/np.sum(cf_matrix1)]\n",
        "  labels = [f\"{v1}\\n{v2}\\n{v3}\" for v1, v2, v3 in\n",
        "            zip(group_names,group_counts,group_percentages)]\n",
        "  labels = np.asarray(labels).reshape(2,2)\n",
        "  sns.heatmap(cf_matrix1, annot=labels, fmt=\"\", cmap='Blues')\n",
        "\n",
        "def get_predictions_and_probabilities_KNN_and_RF(x):\n",
        "  # knn_model = joblib.load(knn_model_filename)\n",
        "  # rf_model = joblib.load(rf_model_filename)\n",
        "  y_pred_knn_proba = np.array(knn.predict_proba(x))\n",
        "  y_pred_rf_proba = np.array(clf2.predict_proba(x))\n",
        "  y_pred_knn_proba = y_pred_knn_proba.T\n",
        "  y_pred_rf_proba = y_pred_rf_proba.T\n",
        "  data_dict = dict()\n",
        "  data_dict[\"KNN Pred Prob 0\"] = y_pred_knn_proba[0]\n",
        "  data_dict[\"KNN Pred Prob 1\"] = y_pred_knn_proba[1]\n",
        "  data_dict[\"RF Pred Prob 0\"] = y_pred_rf_proba[0]\n",
        "  data_dict[\"RF Pred Prob 1\"] = y_pred_rf_proba[1]\n",
        "  df = pd.DataFrame(data_dict)\n",
        "  print(df.head())\n",
        "  return df"
      ],
      "execution_count": null,
      "outputs": []
    },
    {
      "cell_type": "code",
      "metadata": {
        "id": "Ifr6ORRmQulj"
      },
      "source": [
        "x, y = get_data()\n",
        "x_train, x_test, y_train, y_test = get_train_test_split(x, y)"
      ],
      "execution_count": null,
      "outputs": []
    },
    {
      "cell_type": "code",
      "metadata": {
        "colab": {
          "base_uri": "https://localhost:8080/",
          "height": 298
        },
        "id": "Y-z8oplCRVAk",
        "outputId": "bf44b564-1772-4ef4-8fe7-19dd3b231fa1"
      },
      "source": [
        "knn = KNeighborsClassifier(n_neighbors=12)\n",
        "clf = knn.fit(x_train, y_train)\n",
        "y_pred = clf.predict(x_test)\n",
        "acc_knb_model=roc_auc_score(y_test, y_pred)*100\n",
        "\n",
        "if save_model:\n",
        "  joblib.dump(knn, knn_model_filename)\n",
        "  print(\"KNN Model Saved to \", knn_model_filename)\n",
        "\n",
        "print(\"KNN Accuracy: \", acc_knb_model)\n",
        "plot_confusion_matrix(y_test, y_pred)"
      ],
      "execution_count": null,
      "outputs": [
        {
          "output_type": "stream",
          "text": [
            "KNN Model Saved to  knnjoblib_file.sav\n",
            "KNN Accuracy:  89.59204285640293\n"
          ],
          "name": "stdout"
        },
        {
          "output_type": "display_data",
          "data": {
            "image/png": "[encoded data removed]",
            "text/plain": [
              "<Figure size 432x288 with 2 Axes>"
            ]
          },
          "metadata": {
            "tags": [],
            "needs_background": "light"
          }
        }
      ]
    },
    {
      "cell_type": "code",
      "metadata": {
        "colab": {
          "base_uri": "https://localhost:8080/",
          "height": 298
        },
        "id": "DvFcHBy3T1WH",
        "outputId": "75c9b3bc-192d-4cf9-fb9a-f7c5e6275f05"
      },
      "source": [
        "clf2 = RandomForestClassifier(max_depth=45, random_state=4).fit(x_train, y_train)\n",
        "y_pred2 = clf2.predict(x_test)\n",
        "acc_rmf_model = roc_auc_score(y_test, y_pred2)*100\n",
        "\n",
        "if save_model:\n",
        "  joblib.dump(clf2, rf_model_filename)\n",
        "  print(\"RF Model Saved to \", rf_model_filename)\n",
        "\n",
        "print(\"RF Accuracy: \", acc_rmf_model)\n",
        "plot_confusion_matrix(y_test, y_pred2)"
      ],
      "execution_count": null,
      "outputs": [
        {
          "output_type": "stream",
          "text": [
            "RF Model Saved to  rfjoblib_file.sav\n",
            "RF Accuracy:  93.47664429629519\n"
          ],
          "name": "stdout"
        },
        {
          "output_type": "display_data",
          "data": {
            "image/png": "[encoded data removed]",
            "text/plain": [
              "<Figure size 432x288 with 2 Axes>"
            ]
          },
          "metadata": {
            "tags": [],
            "needs_background": "light"
          }
        }
      ]
    },
    {
      "cell_type": "markdown",
      "metadata": {
        "id": "ElYo39EJHZ-4"
      },
      "source": [
        "# **Hybrid Classifier**"
      ]
    },
    {
      "cell_type": "code",
      "metadata": {
        "colab": {
          "base_uri": "https://localhost:8080/"
        },
        "id": "kVeim0qXIMBJ",
        "outputId": "93d4a9a3-9047-46bc-f82e-e5523ca0348c"
      },
      "source": [
        "pip install keras-adabound"
      ],
      "execution_count": null,
      "outputs": [
        {
          "output_type": "stream",
          "text": [
            "Requirement already satisfied: keras-adabound in /usr/local/lib/python3.7/dist-packages (0.6.0)\n",
            "Requirement already satisfied: Keras in /usr/local/lib/python3.7/dist-packages (from keras-adabound) (2.4.3)\n",
            "Requirement already satisfied: typeguard in /usr/local/lib/python3.7/dist-packages (from keras-adabound) (2.7.1)\n",
            "Requirement already satisfied: numpy in /usr/local/lib/python3.7/dist-packages (from keras-adabound) (1.19.5)\n",
            "Requirement already satisfied: h5py in /usr/local/lib/python3.7/dist-packages (from Keras->keras-adabound) (2.10.0)\n",
            "Requirement already satisfied: pyyaml in /usr/local/lib/python3.7/dist-packages (from Keras->keras-adabound) (3.13)\n",
            "Requirement already satisfied: scipy>=0.14 in /usr/local/lib/python3.7/dist-packages (from Keras->keras-adabound) (1.4.1)\n",
            "Requirement already satisfied: six in /usr/local/lib/python3.7/dist-packages (from h5py->Keras->keras-adabound) (1.15.0)\n"
          ],
          "name": "stdout"
        }
      ]
    },
    {
      "cell_type": "code",
      "metadata": {
        "id": "_V1-WSubIS-P"
      },
      "source": [
        "from keras_adabound import AdaBound"
      ],
      "execution_count": null,
      "outputs": []
    },
    {
      "cell_type": "code",
      "metadata": {
        "id": "8iLEpGZJHgfc"
      },
      "source": [
        "from keras.models import Sequential\n",
        "from keras.layers import Dense, Activation\n",
        "from keras.activations import sigmoid\n",
        "from keras.optimizers import SGD\n",
        "from keras.losses import binary_crossentropy\n",
        "from keras.utils import to_categorical"
      ],
      "execution_count": null,
      "outputs": []
    },
    {
      "cell_type": "code",
      "metadata": {
        "id": "YRsqzDnWBt_f"
      },
      "source": [
        "def get_hybrid_dataset():\n",
        "  x, y = get_data()\n",
        "  df = get_predictions_and_probabilities_KNN_and_RF(x)\n",
        "  for col in df.columns:\n",
        "    x[col] = list(df[col])\n",
        "  return x, y"
      ],
      "execution_count": null,
      "outputs": []
    },
    {
      "cell_type": "code",
      "metadata": {
        "colab": {
          "base_uri": "https://localhost:8080/"
        },
        "id": "f_kQcphaBs1b",
        "outputId": "17278364-2634-4899-83d7-c3f1ad57b331"
      },
      "source": [
        "x, y = get_hybrid_dataset()\n",
        "x_train, x_test, y_train, y_test = get_train_test_split(x, y)"
      ],
      "execution_count": null,
      "outputs": [
        {
          "output_type": "stream",
          "text": [
            "   KNN Pred Prob 0  KNN Pred Prob 1  RF Pred Prob 0  RF Pred Prob 1\n",
            "0         0.916667         0.083333           0.940           0.060\n",
            "1         1.000000         0.000000           1.000           0.000\n",
            "2         1.000000         0.000000           1.000           0.000\n",
            "3         1.000000         0.000000           0.994           0.006\n",
            "4         0.333333         0.666667           0.850           0.150\n"
          ],
          "name": "stdout"
        }
      ]
    },
    {
      "cell_type": "code",
      "metadata": {
        "id": "xXvmLS3FHW89"
      },
      "source": [
        "model = Sequential()\n",
        "layers = [Dense(1004), Dense(512), Dense(251), Dense(63), Dense(16), Dense(4), Dense(1), Activation(sigmoid)]\n",
        "for layer in layers:\n",
        "  model.add(layer)"
      ],
      "execution_count": null,
      "outputs": []
    },
    {
      "cell_type": "code",
      "metadata": {
        "id": "5xaPOZQDKmlg"
      },
      "source": [
        "model.compile(optimizer = SGD(learning_rate=0.0045, momentum=0.99, decay = 1e-4) , loss = binary_crossentropy, metrics=[\"accuracy\"])"
      ],
      "execution_count": null,
      "outputs": []
    },
    {
      "cell_type": "code",
      "metadata": {
        "colab": {
          "base_uri": "https://localhost:8080/"
        },
        "id": "vKwFCqcSK9Jx",
        "outputId": "a236ac68-76a8-4cf9-b4bb-382216f8d491"
      },
      "source": [
        "history = model.fit(x_train, y_train, epochs=200, batch_size=512)"
      ],
      "execution_count": null,
      "outputs": [
        {
          "output_type": "stream",
          "text": [
            "Epoch 1/200\n",
            "7/7 [==============================] - 0s 6ms/step - loss: 0.7430 - accuracy: 0.6674\n",
            "Epoch 2/200\n",
            "7/7 [==============================] - 0s 6ms/step - loss: 0.4686 - accuracy: 0.8759\n",
            "Epoch 3/200\n",
            "7/7 [==============================] - 0s 6ms/step - loss: 0.2922 - accuracy: 0.9030\n",
            "Epoch 4/200\n",
            "7/7 [==============================] - 0s 6ms/step - loss: 0.2003 - accuracy: 0.9366\n",
            "Epoch 5/200\n",
            "7/7 [==============================] - 0s 6ms/step - loss: 0.2038 - accuracy: 0.9473\n",
            "Epoch 6/200\n",
            "7/7 [==============================] - 0s 7ms/step - loss: 0.1847 - accuracy: 0.9603\n",
            "Epoch 7/200\n",
            "7/7 [==============================] - 0s 6ms/step - loss: 0.1983 - accuracy: 0.9555\n",
            "Epoch 8/200\n",
            "7/7 [==============================] - 0s 6ms/step - loss: 0.1729 - accuracy: 0.9524\n",
            "Epoch 9/200\n",
            "7/7 [==============================] - 0s 5ms/step - loss: 0.1254 - accuracy: 0.9580\n",
            "Epoch 10/200\n",
            "7/7 [==============================] - 0s 5ms/step - loss: 0.1235 - accuracy: 0.9591\n",
            "Epoch 11/200\n",
            "7/7 [==============================] - 0s 6ms/step - loss: 0.1169 - accuracy: 0.9637\n",
            "Epoch 12/200\n",
            "7/7 [==============================] - 0s 6ms/step - loss: 0.1255 - accuracy: 0.9628\n",
            "Epoch 13/200\n",
            "7/7 [==============================] - 0s 6ms/step - loss: 0.1068 - accuracy: 0.9692\n",
            "Epoch 14/200\n",
            "7/7 [==============================] - 0s 5ms/step - loss: 0.1092 - accuracy: 0.9664\n",
            "Epoch 15/200\n",
            "7/7 [==============================] - 0s 5ms/step - loss: 0.0958 - accuracy: 0.9690\n",
            "Epoch 16/200\n",
            "7/7 [==============================] - 0s 5ms/step - loss: 0.1105 - accuracy: 0.9654\n",
            "Epoch 17/200\n",
            "7/7 [==============================] - 0s 5ms/step - loss: 0.0941 - accuracy: 0.9705\n",
            "Epoch 18/200\n",
            "7/7 [==============================] - 0s 5ms/step - loss: 0.0906 - accuracy: 0.9735\n",
            "Epoch 19/200\n",
            "7/7 [==============================] - 0s 6ms/step - loss: 0.0939 - accuracy: 0.9696\n",
            "Epoch 20/200\n",
            "7/7 [==============================] - 0s 5ms/step - loss: 0.0813 - accuracy: 0.9742\n",
            "Epoch 21/200\n",
            "7/7 [==============================] - 0s 5ms/step - loss: 0.0831 - accuracy: 0.9747\n",
            "Epoch 22/200\n",
            "7/7 [==============================] - 0s 5ms/step - loss: 0.0772 - accuracy: 0.9782\n",
            "Epoch 23/200\n",
            "7/7 [==============================] - 0s 5ms/step - loss: 0.0816 - accuracy: 0.9761\n",
            "Epoch 24/200\n",
            "7/7 [==============================] - 0s 6ms/step - loss: 0.0816 - accuracy: 0.9788\n",
            "Epoch 25/200\n",
            "7/7 [==============================] - 0s 6ms/step - loss: 0.0767 - accuracy: 0.9787\n",
            "Epoch 26/200\n",
            "7/7 [==============================] - 0s 5ms/step - loss: 0.0737 - accuracy: 0.9788\n",
            "Epoch 27/200\n",
            "7/7 [==============================] - 0s 5ms/step - loss: 0.0709 - accuracy: 0.9786\n",
            "Epoch 28/200\n",
            "7/7 [==============================] - 0s 5ms/step - loss: 0.0740 - accuracy: 0.9777\n",
            "Epoch 29/200\n",
            "7/7 [==============================] - 0s 7ms/step - loss: 0.0740 - accuracy: 0.9798\n",
            "Epoch 30/200\n",
            "7/7 [==============================] - 0s 6ms/step - loss: 0.0758 - accuracy: 0.9780\n",
            "Epoch 31/200\n",
            "7/7 [==============================] - 0s 6ms/step - loss: 0.0684 - accuracy: 0.9797\n",
            "Epoch 32/200\n",
            "7/7 [==============================] - 0s 6ms/step - loss: 0.0711 - accuracy: 0.9777\n",
            "Epoch 33/200\n",
            "7/7 [==============================] - 0s 6ms/step - loss: 0.0734 - accuracy: 0.9779\n",
            "Epoch 34/200\n",
            "7/7 [==============================] - 0s 6ms/step - loss: 0.0654 - accuracy: 0.9803\n",
            "Epoch 35/200\n",
            "7/7 [==============================] - 0s 5ms/step - loss: 0.0634 - accuracy: 0.9804\n",
            "Epoch 36/200\n",
            "7/7 [==============================] - 0s 6ms/step - loss: 0.0607 - accuracy: 0.9806\n",
            "Epoch 37/200\n",
            "7/7 [==============================] - 0s 5ms/step - loss: 0.0690 - accuracy: 0.9766\n",
            "Epoch 38/200\n",
            "7/7 [==============================] - 0s 5ms/step - loss: 0.0658 - accuracy: 0.9786\n",
            "Epoch 39/200\n",
            "7/7 [==============================] - 0s 6ms/step - loss: 0.0694 - accuracy: 0.9780\n",
            "Epoch 40/200\n",
            "7/7 [==============================] - 0s 6ms/step - loss: 0.0636 - accuracy: 0.9792\n",
            "Epoch 41/200\n",
            "7/7 [==============================] - 0s 6ms/step - loss: 0.0632 - accuracy: 0.9801\n",
            "Epoch 42/200\n",
            "7/7 [==============================] - 0s 5ms/step - loss: 0.0635 - accuracy: 0.9801\n",
            "Epoch 43/200\n",
            "7/7 [==============================] - 0s 6ms/step - loss: 0.0684 - accuracy: 0.9780\n",
            "Epoch 44/200\n",
            "7/7 [==============================] - 0s 5ms/step - loss: 0.0614 - accuracy: 0.9796\n",
            "Epoch 45/200\n",
            "7/7 [==============================] - 0s 6ms/step - loss: 0.0672 - accuracy: 0.9774\n",
            "Epoch 46/200\n",
            "7/7 [==============================] - 0s 6ms/step - loss: 0.0631 - accuracy: 0.9798\n",
            "Epoch 47/200\n",
            "7/7 [==============================] - 0s 6ms/step - loss: 0.0558 - accuracy: 0.9822\n",
            "Epoch 48/200\n",
            "7/7 [==============================] - 0s 5ms/step - loss: 0.0554 - accuracy: 0.9821\n",
            "Epoch 49/200\n",
            "7/7 [==============================] - 0s 5ms/step - loss: 0.0585 - accuracy: 0.9803\n",
            "Epoch 50/200\n",
            "7/7 [==============================] - 0s 7ms/step - loss: 0.0610 - accuracy: 0.9802\n",
            "Epoch 51/200\n",
            "7/7 [==============================] - 0s 6ms/step - loss: 0.0576 - accuracy: 0.9806\n",
            "Epoch 52/200\n",
            "7/7 [==============================] - 0s 6ms/step - loss: 0.0641 - accuracy: 0.9792\n",
            "Epoch 53/200\n",
            "7/7 [==============================] - 0s 6ms/step - loss: 0.0641 - accuracy: 0.9791\n",
            "Epoch 54/200\n",
            "7/7 [==============================] - 0s 5ms/step - loss: 0.0661 - accuracy: 0.9769\n",
            "Epoch 55/200\n",
            "7/7 [==============================] - 0s 5ms/step - loss: 0.0667 - accuracy: 0.9762\n",
            "Epoch 56/200\n",
            "7/7 [==============================] - 0s 5ms/step - loss: 0.0577 - accuracy: 0.9810\n",
            "Epoch 57/200\n",
            "7/7 [==============================] - 0s 5ms/step - loss: 0.0598 - accuracy: 0.9782\n",
            "Epoch 58/200\n",
            "7/7 [==============================] - 0s 5ms/step - loss: 0.0616 - accuracy: 0.9785\n",
            "Epoch 59/200\n",
            "7/7 [==============================] - 0s 5ms/step - loss: 0.0573 - accuracy: 0.9810\n",
            "Epoch 60/200\n",
            "7/7 [==============================] - 0s 5ms/step - loss: 0.0571 - accuracy: 0.9799\n",
            "Epoch 61/200\n",
            "7/7 [==============================] - 0s 5ms/step - loss: 0.0596 - accuracy: 0.9786\n",
            "Epoch 62/200\n",
            "7/7 [==============================] - 0s 5ms/step - loss: 0.0547 - accuracy: 0.9818\n",
            "Epoch 63/200\n",
            "7/7 [==============================] - 0s 5ms/step - loss: 0.0639 - accuracy: 0.9789\n",
            "Epoch 64/200\n",
            "7/7 [==============================] - 0s 5ms/step - loss: 0.0600 - accuracy: 0.9787\n",
            "Epoch 65/200\n",
            "7/7 [==============================] - 0s 6ms/step - loss: 0.0573 - accuracy: 0.9817\n",
            "Epoch 66/200\n",
            "7/7 [==============================] - 0s 6ms/step - loss: 0.0575 - accuracy: 0.9805\n",
            "Epoch 67/200\n",
            "7/7 [==============================] - 0s 5ms/step - loss: 0.0619 - accuracy: 0.9792\n",
            "Epoch 68/200\n",
            "7/7 [==============================] - 0s 6ms/step - loss: 0.0571 - accuracy: 0.9813\n",
            "Epoch 69/200\n",
            "7/7 [==============================] - 0s 6ms/step - loss: 0.0667 - accuracy: 0.9779\n",
            "Epoch 70/200\n",
            "7/7 [==============================] - 0s 6ms/step - loss: 0.0626 - accuracy: 0.9780\n",
            "Epoch 71/200\n",
            "7/7 [==============================] - 0s 5ms/step - loss: 0.0632 - accuracy: 0.9775\n",
            "Epoch 72/200\n",
            "7/7 [==============================] - 0s 5ms/step - loss: 0.0559 - accuracy: 0.9820\n",
            "Epoch 73/200\n",
            "7/7 [==============================] - 0s 6ms/step - loss: 0.0572 - accuracy: 0.9808\n",
            "Epoch 74/200\n",
            "7/7 [==============================] - 0s 6ms/step - loss: 0.0631 - accuracy: 0.9783\n",
            "Epoch 75/200\n",
            "7/7 [==============================] - 0s 6ms/step - loss: 0.0522 - accuracy: 0.9841\n",
            "Epoch 76/200\n",
            "7/7 [==============================] - 0s 5ms/step - loss: 0.0575 - accuracy: 0.9816\n",
            "Epoch 77/200\n",
            "7/7 [==============================] - 0s 5ms/step - loss: 0.0633 - accuracy: 0.9777\n",
            "Epoch 78/200\n",
            "7/7 [==============================] - 0s 5ms/step - loss: 0.0615 - accuracy: 0.9783\n",
            "Epoch 79/200\n",
            "7/7 [==============================] - 0s 5ms/step - loss: 0.0575 - accuracy: 0.9826\n",
            "Epoch 80/200\n",
            "7/7 [==============================] - 0s 6ms/step - loss: 0.0626 - accuracy: 0.9785\n",
            "Epoch 81/200\n",
            "7/7 [==============================] - 0s 6ms/step - loss: 0.0625 - accuracy: 0.9785\n",
            "Epoch 82/200\n",
            "7/7 [==============================] - 0s 6ms/step - loss: 0.0647 - accuracy: 0.9782\n",
            "Epoch 83/200\n",
            "7/7 [==============================] - 0s 6ms/step - loss: 0.0566 - accuracy: 0.9829\n",
            "Epoch 84/200\n",
            "7/7 [==============================] - 0s 5ms/step - loss: 0.0593 - accuracy: 0.9800\n",
            "Epoch 85/200\n",
            "7/7 [==============================] - 0s 5ms/step - loss: 0.0597 - accuracy: 0.9803\n",
            "Epoch 86/200\n",
            "7/7 [==============================] - 0s 5ms/step - loss: 0.0651 - accuracy: 0.9784\n",
            "Epoch 87/200\n",
            "7/7 [==============================] - 0s 5ms/step - loss: 0.0616 - accuracy: 0.9805\n",
            "Epoch 88/200\n",
            "7/7 [==============================] - 0s 6ms/step - loss: 0.0627 - accuracy: 0.9785\n",
            "Epoch 89/200\n",
            "7/7 [==============================] - 0s 6ms/step - loss: 0.0543 - accuracy: 0.9827\n",
            "Epoch 90/200\n",
            "7/7 [==============================] - 0s 6ms/step - loss: 0.0642 - accuracy: 0.9785\n",
            "Epoch 91/200\n",
            "7/7 [==============================] - 0s 5ms/step - loss: 0.0508 - accuracy: 0.9836\n",
            "Epoch 92/200\n",
            "7/7 [==============================] - 0s 6ms/step - loss: 0.0609 - accuracy: 0.9810\n",
            "Epoch 93/200\n",
            "7/7 [==============================] - 0s 5ms/step - loss: 0.0546 - accuracy: 0.9818\n",
            "Epoch 94/200\n",
            "7/7 [==============================] - 0s 5ms/step - loss: 0.0567 - accuracy: 0.9822\n",
            "Epoch 95/200\n",
            "7/7 [==============================] - 0s 5ms/step - loss: 0.0605 - accuracy: 0.9792\n",
            "Epoch 96/200\n",
            "7/7 [==============================] - 0s 5ms/step - loss: 0.0560 - accuracy: 0.9808\n",
            "Epoch 97/200\n",
            "7/7 [==============================] - 0s 6ms/step - loss: 0.0529 - accuracy: 0.9832\n",
            "Epoch 98/200\n",
            "7/7 [==============================] - 0s 5ms/step - loss: 0.0559 - accuracy: 0.9817\n",
            "Epoch 99/200\n",
            "7/7 [==============================] - 0s 6ms/step - loss: 0.0577 - accuracy: 0.9804\n",
            "Epoch 100/200\n",
            "7/7 [==============================] - 0s 6ms/step - loss: 0.0564 - accuracy: 0.9810\n",
            "Epoch 101/200\n",
            "7/7 [==============================] - 0s 5ms/step - loss: 0.0556 - accuracy: 0.9821\n",
            "Epoch 102/200\n",
            "7/7 [==============================] - 0s 5ms/step - loss: 0.0636 - accuracy: 0.9789\n",
            "Epoch 103/200\n",
            "7/7 [==============================] - 0s 5ms/step - loss: 0.0547 - accuracy: 0.9826\n",
            "Epoch 104/200\n",
            "7/7 [==============================] - 0s 5ms/step - loss: 0.0600 - accuracy: 0.9803\n",
            "Epoch 105/200\n",
            "7/7 [==============================] - 0s 6ms/step - loss: 0.0646 - accuracy: 0.9778\n",
            "Epoch 106/200\n",
            "7/7 [==============================] - 0s 5ms/step - loss: 0.0601 - accuracy: 0.9801\n",
            "Epoch 107/200\n",
            "7/7 [==============================] - 0s 5ms/step - loss: 0.0605 - accuracy: 0.9799\n",
            "Epoch 108/200\n",
            "7/7 [==============================] - 0s 6ms/step - loss: 0.0557 - accuracy: 0.9813\n",
            "Epoch 109/200\n",
            "7/7 [==============================] - 0s 6ms/step - loss: 0.0613 - accuracy: 0.9790\n",
            "Epoch 110/200\n",
            "7/7 [==============================] - 0s 6ms/step - loss: 0.0562 - accuracy: 0.9808\n",
            "Epoch 111/200\n",
            "7/7 [==============================] - 0s 6ms/step - loss: 0.0543 - accuracy: 0.9826\n",
            "Epoch 112/200\n",
            "7/7 [==============================] - 0s 5ms/step - loss: 0.0565 - accuracy: 0.9803\n",
            "Epoch 113/200\n",
            "7/7 [==============================] - 0s 5ms/step - loss: 0.0552 - accuracy: 0.9810\n",
            "Epoch 114/200\n",
            "7/7 [==============================] - 0s 5ms/step - loss: 0.0573 - accuracy: 0.9802\n",
            "Epoch 115/200\n",
            "7/7 [==============================] - 0s 6ms/step - loss: 0.0494 - accuracy: 0.9849\n",
            "Epoch 116/200\n",
            "7/7 [==============================] - 0s 5ms/step - loss: 0.0550 - accuracy: 0.9812\n",
            "Epoch 117/200\n",
            "7/7 [==============================] - 0s 5ms/step - loss: 0.0624 - accuracy: 0.9766\n",
            "Epoch 118/200\n",
            "7/7 [==============================] - 0s 6ms/step - loss: 0.0620 - accuracy: 0.9792\n",
            "Epoch 119/200\n",
            "7/7 [==============================] - 0s 6ms/step - loss: 0.0585 - accuracy: 0.9797\n",
            "Epoch 120/200\n",
            "7/7 [==============================] - 0s 6ms/step - loss: 0.0584 - accuracy: 0.9804\n",
            "Epoch 121/200\n",
            "7/7 [==============================] - 0s 6ms/step - loss: 0.0560 - accuracy: 0.9809\n",
            "Epoch 122/200\n",
            "7/7 [==============================] - 0s 5ms/step - loss: 0.0553 - accuracy: 0.9814\n",
            "Epoch 123/200\n",
            "7/7 [==============================] - 0s 5ms/step - loss: 0.0518 - accuracy: 0.9824\n",
            "Epoch 124/200\n",
            "7/7 [==============================] - 0s 5ms/step - loss: 0.0579 - accuracy: 0.9796\n",
            "Epoch 125/200\n",
            "7/7 [==============================] - 0s 5ms/step - loss: 0.0562 - accuracy: 0.9809\n",
            "Epoch 126/200\n",
            "7/7 [==============================] - 0s 5ms/step - loss: 0.0606 - accuracy: 0.9792\n",
            "Epoch 127/200\n",
            "7/7 [==============================] - 0s 5ms/step - loss: 0.0600 - accuracy: 0.9793\n",
            "Epoch 128/200\n",
            "7/7 [==============================] - 0s 5ms/step - loss: 0.0600 - accuracy: 0.9781\n",
            "Epoch 129/200\n",
            "7/7 [==============================] - 0s 6ms/step - loss: 0.0498 - accuracy: 0.9830\n",
            "Epoch 130/200\n",
            "7/7 [==============================] - 0s 5ms/step - loss: 0.0607 - accuracy: 0.9775\n",
            "Epoch 131/200\n",
            "7/7 [==============================] - 0s 5ms/step - loss: 0.0541 - accuracy: 0.9819\n",
            "Epoch 132/200\n",
            "7/7 [==============================] - 0s 5ms/step - loss: 0.0579 - accuracy: 0.9803\n",
            "Epoch 133/200\n",
            "7/7 [==============================] - 0s 5ms/step - loss: 0.0606 - accuracy: 0.9769\n",
            "Epoch 134/200\n",
            "7/7 [==============================] - 0s 5ms/step - loss: 0.0588 - accuracy: 0.9797\n",
            "Epoch 135/200\n",
            "7/7 [==============================] - 0s 5ms/step - loss: 0.0575 - accuracy: 0.9807\n",
            "Epoch 136/200\n",
            "7/7 [==============================] - 0s 5ms/step - loss: 0.0549 - accuracy: 0.9808\n",
            "Epoch 137/200\n",
            "7/7 [==============================] - 0s 5ms/step - loss: 0.0597 - accuracy: 0.9792\n",
            "Epoch 138/200\n",
            "7/7 [==============================] - 0s 5ms/step - loss: 0.0607 - accuracy: 0.9776\n",
            "Epoch 139/200\n",
            "7/7 [==============================] - 0s 5ms/step - loss: 0.0570 - accuracy: 0.9818\n",
            "Epoch 140/200\n",
            "7/7 [==============================] - 0s 5ms/step - loss: 0.0612 - accuracy: 0.9790\n",
            "Epoch 141/200\n",
            "7/7 [==============================] - 0s 5ms/step - loss: 0.0607 - accuracy: 0.9786\n",
            "Epoch 142/200\n",
            "7/7 [==============================] - 0s 6ms/step - loss: 0.0609 - accuracy: 0.9814\n",
            "Epoch 143/200\n",
            "7/7 [==============================] - 0s 5ms/step - loss: 0.0627 - accuracy: 0.9784\n",
            "Epoch 144/200\n",
            "7/7 [==============================] - 0s 5ms/step - loss: 0.0556 - accuracy: 0.9816\n",
            "Epoch 145/200\n",
            "7/7 [==============================] - 0s 5ms/step - loss: 0.0598 - accuracy: 0.9803\n",
            "Epoch 146/200\n",
            "7/7 [==============================] - 0s 5ms/step - loss: 0.0656 - accuracy: 0.9768\n",
            "Epoch 147/200\n",
            "7/7 [==============================] - 0s 7ms/step - loss: 0.0607 - accuracy: 0.9793\n",
            "Epoch 148/200\n",
            "7/7 [==============================] - 0s 6ms/step - loss: 0.0637 - accuracy: 0.9789\n",
            "Epoch 149/200\n",
            "7/7 [==============================] - 0s 6ms/step - loss: 0.0570 - accuracy: 0.9806\n",
            "Epoch 150/200\n",
            "7/7 [==============================] - 0s 5ms/step - loss: 0.0635 - accuracy: 0.9781\n",
            "Epoch 151/200\n",
            "7/7 [==============================] - 0s 6ms/step - loss: 0.0584 - accuracy: 0.9796\n",
            "Epoch 152/200\n",
            "7/7 [==============================] - 0s 6ms/step - loss: 0.0662 - accuracy: 0.9778\n",
            "Epoch 153/200\n",
            "7/7 [==============================] - 0s 6ms/step - loss: 0.0613 - accuracy: 0.9786\n",
            "Epoch 154/200\n",
            "7/7 [==============================] - 0s 6ms/step - loss: 0.0635 - accuracy: 0.9769\n",
            "Epoch 155/200\n",
            "7/7 [==============================] - 0s 6ms/step - loss: 0.0536 - accuracy: 0.9815\n",
            "Epoch 156/200\n",
            "7/7 [==============================] - 0s 5ms/step - loss: 0.0591 - accuracy: 0.9811\n",
            "Epoch 157/200\n",
            "7/7 [==============================] - 0s 5ms/step - loss: 0.0624 - accuracy: 0.9784\n",
            "Epoch 158/200\n",
            "7/7 [==============================] - 0s 6ms/step - loss: 0.0652 - accuracy: 0.9762\n",
            "Epoch 159/200\n",
            "7/7 [==============================] - 0s 6ms/step - loss: 0.0592 - accuracy: 0.9805\n",
            "Epoch 160/200\n",
            "7/7 [==============================] - 0s 5ms/step - loss: 0.0678 - accuracy: 0.9767\n",
            "Epoch 161/200\n",
            "7/7 [==============================] - 0s 6ms/step - loss: 0.0548 - accuracy: 0.9810\n",
            "Epoch 162/200\n",
            "7/7 [==============================] - 0s 6ms/step - loss: 0.0627 - accuracy: 0.9784\n",
            "Epoch 163/200\n",
            "7/7 [==============================] - 0s 6ms/step - loss: 0.0626 - accuracy: 0.9786\n",
            "Epoch 164/200\n",
            "7/7 [==============================] - 0s 5ms/step - loss: 0.0618 - accuracy: 0.9799\n",
            "Epoch 165/200\n",
            "7/7 [==============================] - 0s 6ms/step - loss: 0.0583 - accuracy: 0.9800\n",
            "Epoch 166/200\n",
            "7/7 [==============================] - 0s 6ms/step - loss: 0.0579 - accuracy: 0.9812\n",
            "Epoch 167/200\n",
            "7/7 [==============================] - 0s 5ms/step - loss: 0.0554 - accuracy: 0.9813\n",
            "Epoch 168/200\n",
            "7/7 [==============================] - 0s 6ms/step - loss: 0.0577 - accuracy: 0.9804\n",
            "Epoch 169/200\n",
            "7/7 [==============================] - 0s 6ms/step - loss: 0.0586 - accuracy: 0.9800\n",
            "Epoch 170/200\n",
            "7/7 [==============================] - 0s 6ms/step - loss: 0.0571 - accuracy: 0.9812\n",
            "Epoch 171/200\n",
            "7/7 [==============================] - 0s 6ms/step - loss: 0.0527 - accuracy: 0.9819\n",
            "Epoch 172/200\n",
            "7/7 [==============================] - 0s 5ms/step - loss: 0.0570 - accuracy: 0.9812\n",
            "Epoch 173/200\n",
            "7/7 [==============================] - 0s 6ms/step - loss: 0.0572 - accuracy: 0.9793\n",
            "Epoch 174/200\n",
            "7/7 [==============================] - 0s 5ms/step - loss: 0.0623 - accuracy: 0.9769\n",
            "Epoch 175/200\n",
            "7/7 [==============================] - 0s 5ms/step - loss: 0.0571 - accuracy: 0.9802\n",
            "Epoch 176/200\n",
            "7/7 [==============================] - 0s 6ms/step - loss: 0.0545 - accuracy: 0.9812\n",
            "Epoch 177/200\n",
            "7/7 [==============================] - 0s 5ms/step - loss: 0.0556 - accuracy: 0.9807\n",
            "Epoch 178/200\n",
            "7/7 [==============================] - 0s 5ms/step - loss: 0.0564 - accuracy: 0.9804\n",
            "Epoch 179/200\n",
            "7/7 [==============================] - 0s 5ms/step - loss: 0.0634 - accuracy: 0.9775\n",
            "Epoch 180/200\n",
            "7/7 [==============================] - 0s 6ms/step - loss: 0.0613 - accuracy: 0.9789\n",
            "Epoch 181/200\n",
            "7/7 [==============================] - 0s 5ms/step - loss: 0.0571 - accuracy: 0.9801\n",
            "Epoch 182/200\n",
            "7/7 [==============================] - 0s 5ms/step - loss: 0.0590 - accuracy: 0.9790\n",
            "Epoch 183/200\n",
            "7/7 [==============================] - 0s 5ms/step - loss: 0.0548 - accuracy: 0.9809\n",
            "Epoch 184/200\n",
            "7/7 [==============================] - 0s 5ms/step - loss: 0.0558 - accuracy: 0.9813\n",
            "Epoch 185/200\n",
            "7/7 [==============================] - 0s 5ms/step - loss: 0.0610 - accuracy: 0.9789\n",
            "Epoch 186/200\n",
            "7/7 [==============================] - 0s 6ms/step - loss: 0.0551 - accuracy: 0.9814\n",
            "Epoch 187/200\n",
            "7/7 [==============================] - 0s 6ms/step - loss: 0.0580 - accuracy: 0.9800\n",
            "Epoch 188/200\n",
            "7/7 [==============================] - 0s 5ms/step - loss: 0.0532 - accuracy: 0.9826\n",
            "Epoch 189/200\n",
            "7/7 [==============================] - 0s 5ms/step - loss: 0.0618 - accuracy: 0.9795\n",
            "Epoch 190/200\n",
            "7/7 [==============================] - 0s 6ms/step - loss: 0.0653 - accuracy: 0.9756\n",
            "Epoch 191/200\n",
            "7/7 [==============================] - 0s 6ms/step - loss: 0.0607 - accuracy: 0.9783\n",
            "Epoch 192/200\n",
            "7/7 [==============================] - 0s 6ms/step - loss: 0.0623 - accuracy: 0.9799\n",
            "Epoch 193/200\n",
            "7/7 [==============================] - 0s 6ms/step - loss: 0.0615 - accuracy: 0.9795\n",
            "Epoch 194/200\n",
            "7/7 [==============================] - 0s 6ms/step - loss: 0.0558 - accuracy: 0.9800\n",
            "Epoch 195/200\n",
            "7/7 [==============================] - 0s 5ms/step - loss: 0.0689 - accuracy: 0.9776\n",
            "Epoch 196/200\n",
            "7/7 [==============================] - 0s 5ms/step - loss: 0.0598 - accuracy: 0.9783\n",
            "Epoch 197/200\n",
            "7/7 [==============================] - 0s 6ms/step - loss: 0.0581 - accuracy: 0.9808\n",
            "Epoch 198/200\n",
            "7/7 [==============================] - 0s 6ms/step - loss: 0.0630 - accuracy: 0.9779\n",
            "Epoch 199/200\n",
            "7/7 [==============================] - 0s 6ms/step - loss: 0.0545 - accuracy: 0.9814\n",
            "Epoch 200/200\n",
            "7/7 [==============================] - 0s 5ms/step - loss: 0.0555 - accuracy: 0.9813\n"
          ],
          "name": "stdout"
        }
      ]
    },
    {
      "cell_type": "code",
      "metadata": {
        "colab": {
          "base_uri": "https://localhost:8080/",
          "height": 330
        },
        "id": "gCCwvKMoMmPA",
        "outputId": "9e659fed-1997-4dae-8241-9a428403cdfd"
      },
      "source": [
        "plt.plot(history.history['accuracy'])\n",
        "plt.plot(history.history['loss'])\n",
        "plt.ylabel('accuracy')\n",
        "plt.xlabel('epoch')\n",
        "plt.show()\n",
        "# \"Loss\"\n",
        "\n",
        "y_pred = model.predict(x_test)\n",
        "y_pred = (y_pred>0.5)\n",
        "print(confusion_matrix(y_pred,y_test))\n",
        "print(roc_auc_score(y_test, y_pred)*100)"
      ],
      "execution_count": null,
      "outputs": [
        {
          "output_type": "display_data",
          "data": {
            "image/png": "[encoded data removed]",
            "text/plain": [
              "<Figure size 432x288 with 1 Axes>"
            ]
          },
          "metadata": {
            "tags": [],
            "needs_background": "light"
          }
        },
        {
          "output_type": "stream",
          "text": [
            "[[556  50]\n",
            " [ 46 848]]\n",
            "93.39543762809936\n"
          ],
          "name": "stdout"
        }
      ]
    },
    {
      "cell_type": "markdown",
      "metadata": {
        "id": "KF0js_oAB7Fs"
      },
      "source": [
        "Naive Bayes"
      ]
    },
    {
      "cell_type": "code",
      "metadata": {
        "id": "fbCEfUSkB3jm"
      },
      "source": [
        "from sklearn.naive_bayes import GaussianNB\n",
        "clf3 = GaussianNB().fit(x_train, y_train)"
      ],
      "execution_count": null,
      "outputs": []
    },
    {
      "cell_type": "code",
      "metadata": {
        "id": "H2qkd52aCBtL"
      },
      "source": [
        "y_pred3 = clf3.predict(x_test)"
      ],
      "execution_count": null,
      "outputs": []
    },
    {
      "cell_type": "code",
      "metadata": {
        "id": "R0nCBN2uCE6L",
        "colab": {
          "base_uri": "https://localhost:8080/"
        },
        "outputId": "30c331b9-67fc-4db7-8f59-54cfc81f2310"
      },
      "source": [
        "acc_nb=roc_auc_score(y_test, y_pred3)*100\n",
        "acc_nb"
      ],
      "execution_count": null,
      "outputs": [
        {
          "output_type": "execute_result",
          "data": {
            "text/plain": [
              "73.34996929315051"
            ]
          },
          "metadata": {
            "tags": []
          },
          "execution_count": 25
        }
      ]
    },
    {
      "cell_type": "code",
      "metadata": {
        "id": "-4qK453eCGow",
        "colab": {
          "base_uri": "https://localhost:8080/",
          "height": 282
        },
        "outputId": "5d0e0635-30ee-4ecb-8384-9ce152562406"
      },
      "source": [
        "cf_matrix3= confusion_matrix(y_test, y_pred3)\n",
        "group_names = [\"TrueNeg\",\"FalsePos\",\"FalseNeg\",\"TruePos\"]\n",
        "group_counts = [\"{0:0.0f}\".format(value) for value in\n",
        "                cf_matrix3.flatten()]\n",
        "group_percentages = [\"{0:.2%}\".format(value) for value in\n",
        "                     cf_matrix3.flatten()/np.sum(cf_matrix3)]\n",
        "labels = [f\"{v1}\\n{v2}\\n{v3}\" for v1, v2, v3 in\n",
        "          zip(group_names,group_counts,group_percentages)]\n",
        "labels = np.asarray(labels).reshape(2,2)\n",
        "sns.heatmap(cf_matrix3, annot=labels, fmt=\"\", cmap='Blues')"
      ],
      "execution_count": null,
      "outputs": [
        {
          "output_type": "execute_result",
          "data": {
            "text/plain": [
              "<matplotlib.axes._subplots.AxesSubplot at 0x7f4146e523d0>"
            ]
          },
          "metadata": {
            "tags": []
          },
          "execution_count": 26
        },
        {
          "output_type": "display_data",
          "data": {
            "image/png": "[encoded data removed]",
            "text/plain": [
              "<Figure size 432x288 with 2 Axes>"
            ]
          },
          "metadata": {
            "tags": [],
            "needs_background": "light"
          }
        }
      ]
    },
    {
      "cell_type": "code",
      "metadata": {
        "id": "h07cKjdwE-dB",
        "colab": {
          "base_uri": "https://localhost:8080/",
          "height": 166
        },
        "outputId": "ecfd1c40-b0e3-467f-c1f7-f400616ac831"
      },
      "source": [
        "results = pd.DataFrame({\n",
        "    'Model': ['KNN', 'Random Forest','Naive Bayes'],\n",
        "    'Score': [acc_knb_model, acc_rmf_model, acc_nb]})\n",
        "result_df = results.sort_values(by='Score', ascending=False)\n",
        "result_df = result_df.set_index('Score')\n",
        "result_df"
      ],
      "execution_count": null,
      "outputs": [
        {
          "output_type": "execute_result",
          "data": {
            "text/html": [
              "<div>\n",
              "<style scoped>\n",
              "    .dataframe tbody tr th:only-of-type {\n",
              "        vertical-align: middle;\n",
              "    }\n",
              "\n",
              "    .dataframe tbody tr th {\n",
              "        vertical-align: top;\n",
              "    }\n",
              "\n",
              "    .dataframe thead th {\n",
              "        text-align: right;\n",
              "    }\n",
              "</style>\n",
              "<table border=\"1\" class=\"dataframe\">\n",
              "  <thead>\n",
              "    <tr style=\"text-align: right;\">\n",
              "      <th></th>\n",
              "      <th>Model</th>\n",
              "    </tr>\n",
              "    <tr>\n",
              "      <th>Score</th>\n",
              "      <th></th>\n",
              "    </tr>\n",
              "  </thead>\n",
              "  <tbody>\n",
              "    <tr>\n",
              "      <th>93.476644</th>\n",
              "      <td>Random Forest</td>\n",
              "    </tr>\n",
              "    <tr>\n",
              "      <th>89.592043</th>\n",
              "      <td>KNN</td>\n",
              "    </tr>\n",
              "    <tr>\n",
              "      <th>73.349969</th>\n",
              "      <td>Naive Bayes</td>\n",
              "    </tr>\n",
              "  </tbody>\n",
              "</table>\n",
              "</div>"
            ],
            "text/plain": [
              "                   Model\n",
              "Score                   \n",
              "93.476644  Random Forest\n",
              "89.592043            KNN\n",
              "73.349969    Naive Bayes"
            ]
          },
          "metadata": {
            "tags": []
          },
          "execution_count": 27
        }
      ]
    },
    {
      "cell_type": "code",
      "metadata": {
        "id": "UG3j2_32CBXM"
      },
      "source": [
        ""
      ],
      "execution_count": null,
      "outputs": []
    }
  ]
}